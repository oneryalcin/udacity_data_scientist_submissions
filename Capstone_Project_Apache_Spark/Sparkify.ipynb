{
 "cells": [
  {
   "cell_type": "markdown",
   "metadata": {},
   "source": [
    "# Sparkify Project Workspace\n",
    "This workspace contains a tiny subset (128MB) of the full dataset available (12GB). Feel free to use this workspace to build your project, or to explore a smaller subset with Spark before deploying your cluster on the cloud. Instructions for setting up your Spark cluster is included in the last lesson of the Extracurricular Spark Course content.\n",
    "\n",
    "You can follow the steps below to guide your data analysis and model building portion of this project."
   ]
  },
  {
   "cell_type": "code",
   "execution_count": 1,
   "metadata": {},
   "outputs": [],
   "source": [
    "# import libraries\n",
    "from pyspark import SparkConf, SparkContext\n",
    "from pyspark.sql import SparkSession, Window\n",
    "from pyspark.sql.functions import count, when, isnan, isnull, desc_nulls_first, desc, \\\n",
    "    from_unixtime, col, dayofweek, dayofyear, hour, to_date, month\n",
    "import pyspark.sql.functions as F\n",
    "from pyspark.ml.feature import OneHotEncoderEstimator, StringIndexer, VectorAssembler, StandardScaler, MinMaxScaler\n",
    "from pyspark.ml.classification import DecisionTreeClassifier, RandomForestClassifier\n",
    "\n",
    "# sc = SparkContext(appName=\"Project_workspace\")\n",
    "\n",
    "# This is another way of doing (If you are running local cluster setMaster=\"local\")\n",
    "# configure = SparkConf().setAppName(\"name\").setMaster(\"IP Address\")\n",
    "# sc = SparkContext(conf=configure)\n",
    "import numpy as np\n",
    "import seaborn as sns\n",
    "import matplotlib.pyplot as plt\n",
    "%matplotlib inline"
   ]
  },
  {
   "cell_type": "code",
   "execution_count": 2,
   "metadata": {},
   "outputs": [],
   "source": [
    "# create a Spark session\n",
    "spark = SparkSession \\\n",
    "        .builder \\\n",
    "        .appName(\"My Project App\") \\\n",
    "        .getOrCreate()"
   ]
  },
  {
   "cell_type": "code",
   "execution_count": 3,
   "metadata": {},
   "outputs": [
    {
     "data": {
      "text/plain": [
       "[('spark.rdd.compress', 'True'),\n",
       " ('spark.app.id', 'local-1569287461764'),\n",
       " ('spark.driver.port', '44597'),\n",
       " ('spark.app.name', 'My Project App'),\n",
       " ('spark.serializer.objectStreamReset', '100'),\n",
       " ('spark.master', 'local[*]'),\n",
       " ('spark.executor.id', 'driver'),\n",
       " ('spark.submit.deployMode', 'client'),\n",
       " ('spark.driver.host', '35f50b8b8605'),\n",
       " ('spark.ui.showConsoleProgress', 'true')]"
      ]
     },
     "execution_count": 3,
     "metadata": {},
     "output_type": "execute_result"
    }
   ],
   "source": [
    "# Check the current Spark Config\n",
    "spark.sparkContext.getConf().getAll()"
   ]
  },
  {
   "cell_type": "markdown",
   "metadata": {},
   "source": [
    "# Load and Clean Dataset\n",
    "In this workspace, the mini-dataset file is `mini_sparkify_event_data.json`. Load and clean the dataset, checking for invalid or missing data - for example, records without userids or sessionids. "
   ]
  },
  {
   "cell_type": "code",
   "execution_count": 4,
   "metadata": {},
   "outputs": [],
   "source": [
    "data = spark.read.json('mini_sparkify_event_data.json')"
   ]
  },
  {
   "cell_type": "code",
   "execution_count": 8,
   "metadata": {},
   "outputs": [
    {
     "data": {
      "text/plain": [
       "[Row(artist='Martha Tilston', auth='Logged In', firstName='Colin', gender='M', itemInSession=50, lastName='Freeman', length=277.89016, level='paid', location='Bakersfield, CA', method='PUT', page='NextSong', registration=1538173362000, sessionId=29, song='Rockpools', status=200, ts=1538352117000, userAgent='Mozilla/5.0 (Windows NT 6.1; WOW64; rv:31.0) Gecko/20100101 Firefox/31.0', userId='30'),\n",
       " Row(artist='Five Iron Frenzy', auth='Logged In', firstName='Micah', gender='M', itemInSession=79, lastName='Long', length=236.09424, level='free', location='Boston-Cambridge-Newton, MA-NH', method='PUT', page='NextSong', registration=1538331630000, sessionId=8, song='Canada', status=200, ts=1538352180000, userAgent='\"Mozilla/5.0 (Windows NT 6.1; WOW64) AppleWebKit/537.36 (KHTML, like Gecko) Chrome/37.0.2062.103 Safari/537.36\"', userId='9'),\n",
       " Row(artist='Adam Lambert', auth='Logged In', firstName='Colin', gender='M', itemInSession=51, lastName='Freeman', length=282.8273, level='paid', location='Bakersfield, CA', method='PUT', page='NextSong', registration=1538173362000, sessionId=29, song='Time For Miracles', status=200, ts=1538352394000, userAgent='Mozilla/5.0 (Windows NT 6.1; WOW64; rv:31.0) Gecko/20100101 Firefox/31.0', userId='30'),\n",
       " Row(artist='Enigma', auth='Logged In', firstName='Micah', gender='M', itemInSession=80, lastName='Long', length=262.71302, level='free', location='Boston-Cambridge-Newton, MA-NH', method='PUT', page='NextSong', registration=1538331630000, sessionId=8, song='Knocking On Forbidden Doors', status=200, ts=1538352416000, userAgent='\"Mozilla/5.0 (Windows NT 6.1; WOW64) AppleWebKit/537.36 (KHTML, like Gecko) Chrome/37.0.2062.103 Safari/537.36\"', userId='9'),\n",
       " Row(artist='Daft Punk', auth='Logged In', firstName='Colin', gender='M', itemInSession=52, lastName='Freeman', length=223.60771, level='paid', location='Bakersfield, CA', method='PUT', page='NextSong', registration=1538173362000, sessionId=29, song='Harder Better Faster Stronger', status=200, ts=1538352676000, userAgent='Mozilla/5.0 (Windows NT 6.1; WOW64; rv:31.0) Gecko/20100101 Firefox/31.0', userId='30')]"
      ]
     },
     "execution_count": 8,
     "metadata": {},
     "output_type": "execute_result"
    }
   ],
   "source": [
    "data.take(5)"
   ]
  },
  {
   "cell_type": "code",
   "execution_count": 53,
   "metadata": {},
   "outputs": [
    {
     "data": {
      "text/plain": [
       "286500"
      ]
     },
     "execution_count": 53,
     "metadata": {},
     "output_type": "execute_result"
    }
   ],
   "source": [
    "data.count()"
   ]
  },
  {
   "cell_type": "code",
   "execution_count": 54,
   "metadata": {},
   "outputs": [
    {
     "name": "stdout",
     "output_type": "stream",
     "text": [
      "root\n",
      " |-- artist: string (nullable = true)\n",
      " |-- auth: string (nullable = true)\n",
      " |-- firstName: string (nullable = true)\n",
      " |-- gender: string (nullable = true)\n",
      " |-- itemInSession: long (nullable = true)\n",
      " |-- lastName: string (nullable = true)\n",
      " |-- length: double (nullable = true)\n",
      " |-- level: string (nullable = true)\n",
      " |-- location: string (nullable = true)\n",
      " |-- method: string (nullable = true)\n",
      " |-- page: string (nullable = true)\n",
      " |-- registration: long (nullable = true)\n",
      " |-- sessionId: long (nullable = true)\n",
      " |-- song: string (nullable = true)\n",
      " |-- status: long (nullable = true)\n",
      " |-- ts: long (nullable = true)\n",
      " |-- userAgent: string (nullable = true)\n",
      " |-- userId: string (nullable = true)\n",
      "\n"
     ]
    }
   ],
   "source": [
    "data.printSchema()"
   ]
  },
  {
   "cell_type": "markdown",
   "metadata": {},
   "source": [
    "We should look at the NULL values in our dataset. Based on the structure we may ommit some columns or impute if necessary for our analysis. Let's have a look at it both statistically and visually"
   ]
  },
  {
   "cell_type": "markdown",
   "metadata": {},
   "source": [
    "First let's have a look if we have any NAN values in our dataset"
   ]
  },
  {
   "cell_type": "code",
   "execution_count": 55,
   "metadata": {},
   "outputs": [
    {
     "data": {
      "text/plain": [
       "{'artist': 0,\n",
       " 'auth': 0,\n",
       " 'firstName': 0,\n",
       " 'gender': 0,\n",
       " 'itemInSession': 0,\n",
       " 'lastName': 0,\n",
       " 'length': 0,\n",
       " 'level': 0,\n",
       " 'location': 0,\n",
       " 'method': 0,\n",
       " 'page': 0,\n",
       " 'registration': 0,\n",
       " 'sessionId': 0,\n",
       " 'song': 0,\n",
       " 'status': 0,\n",
       " 'ts': 0,\n",
       " 'userAgent': 0,\n",
       " 'userId': 0}"
      ]
     },
     "execution_count": 55,
     "metadata": {},
     "output_type": "execute_result"
    }
   ],
   "source": [
    "data.select([count(when(isnan(c), c)).alias(c) for c in data.columns]).head().asDict()"
   ]
  },
  {
   "cell_type": "markdown",
   "metadata": {},
   "source": [
    "Looks like we do not have any NAN values, that's good. How about NULL values?"
   ]
  },
  {
   "cell_type": "code",
   "execution_count": 56,
   "metadata": {},
   "outputs": [
    {
     "data": {
      "text/plain": [
       "{'artist': 58392,\n",
       " 'auth': 0,\n",
       " 'firstName': 8346,\n",
       " 'gender': 8346,\n",
       " 'itemInSession': 0,\n",
       " 'lastName': 8346,\n",
       " 'length': 58392,\n",
       " 'level': 0,\n",
       " 'location': 8346,\n",
       " 'method': 0,\n",
       " 'page': 0,\n",
       " 'registration': 8346,\n",
       " 'sessionId': 0,\n",
       " 'song': 58392,\n",
       " 'status': 0,\n",
       " 'ts': 0,\n",
       " 'userAgent': 8346,\n",
       " 'userId': 0}"
      ]
     },
     "execution_count": 56,
     "metadata": {},
     "output_type": "execute_result"
    }
   ],
   "source": [
    "data.select([count(when(col(c).isNull(), c)).alias(c) for c in data.columns]).head().asDict()"
   ]
  },
  {
   "cell_type": "markdown",
   "metadata": {},
   "source": [
    "We have plenty of NULL values particularly in certain columns, such as `artist`, `length` or `song` .\n",
    "\n",
    "Other observation is that some there is a correlation in terms of null values count among columns, such as `artist`, `length` or `song` all have same number of NULL values. This is true for `firstName`, `gender`, `lastName`, `location`, `registration` and `userAgent`.\n",
    "\n",
    "All other columns do not have any missing values. "
   ]
  },
  {
   "cell_type": "markdown",
   "metadata": {},
   "source": [
    "Also let's visually check missing values whether to see if our previous claim of correlation is supported. Not just NULL counts are the same but the rows numbers should be the same too.\n",
    "\n",
    "Since pyspark do not have a visualizaton library, we sample and convert spark dataframe to pandas dataframe and visualize."
   ]
  },
  {
   "cell_type": "code",
   "execution_count": 57,
   "metadata": {},
   "outputs": [
    {
     "data": {
      "text/plain": [
       "<matplotlib.axes._subplots.AxesSubplot at 0x7fc599a2e1d0>"
      ]
     },
     "execution_count": 57,
     "metadata": {},
     "output_type": "execute_result"
    },
    {
     "data": {
      "image/png": "[encoded data removed]",
      "text/plain": [
       "<matplotlib.figure.Figure at 0x7fc5697120b8>"
      ]
     },
     "metadata": {
      "needs_background": "light"
     },
     "output_type": "display_data"
    }
   ],
   "source": [
    "plt.figure(figsize=(12, 12))\n",
    "sns.heatmap(data.sample(False, 0.1, 42).toPandas().isnull())"
   ]
  },
  {
   "cell_type": "markdown",
   "metadata": {},
   "source": [
    "The heatmap plot above confirms our claim, columns are correlated in terms of mising values. "
   ]
  },
  {
   "cell_type": "markdown",
   "metadata": {},
   "source": [
    "One last thing I'd like to check if `firstName` and other similar fiels are NULL, are `artist` and similar fields are also NULL?"
   ]
  },
  {
   "cell_type": "code",
   "execution_count": 58,
   "metadata": {},
   "outputs": [
    {
     "data": {
      "text/plain": [
       "<matplotlib.axes._subplots.AxesSubplot at 0x7fc5619644e0>"
      ]
     },
     "execution_count": 58,
     "metadata": {},
     "output_type": "execute_result"
    },
    {
     "data": {
      "image/png": "[encoded data removed]",
      "text/plain": [
       "<matplotlib.figure.Figure at 0x7fc56973afd0>"
      ]
     },
     "metadata": {
      "needs_background": "light"
     },
     "output_type": "display_data"
    }
   ],
   "source": [
    "sns.heatmap(data.filter(data.firstName.isNull()).toPandas().isnull())"
   ]
  },
  {
   "cell_type": "markdown",
   "metadata": {},
   "source": [
    "Yes, they are, so there is not only correlation inside groups where NULL counts are equal, but also inter groups NULL pattern is also correlated. In plain English, if `firstName` is NULL then `gender` is also null as their NULL count is equal, but the graph above also states `artist` col will be also NULL  "
   ]
  },
  {
   "cell_type": "code",
   "execution_count": 59,
   "metadata": {},
   "outputs": [
    {
     "name": "stdout",
     "output_type": "stream",
     "text": [
      "+---------+------+--------+--------+------------+---------+----------+-----+\n",
      "|firstName|gender|lastName|location|registration|userAgent|      auth|count|\n",
      "+---------+------+--------+--------+------------+---------+----------+-----+\n",
      "|     null|  null|    null|    null|        null|     null|Logged Out| 8249|\n",
      "|     null|  null|    null|    null|        null|     null|     Guest|   97|\n",
      "+---------+------+--------+--------+------------+---------+----------+-----+\n",
      "\n"
     ]
    }
   ],
   "source": [
    "data.filter(data.firstName.isNull())\\\n",
    "    .groupBy('firstName','gender', 'lastName','location', 'registration','userAgent', 'auth')\\\n",
    "    .count()\\\n",
    "    .show()"
   ]
  },
  {
   "cell_type": "code",
   "execution_count": 60,
   "metadata": {},
   "outputs": [
    {
     "name": "stdout",
     "output_type": "stream",
     "text": [
      "+----------+------+\n",
      "|      auth| count|\n",
      "+----------+------+\n",
      "|Logged Out|  8249|\n",
      "| Cancelled|    52|\n",
      "|     Guest|    97|\n",
      "| Logged In|278102|\n",
      "+----------+------+\n",
      "\n"
     ]
    }
   ],
   "source": [
    "data.groupBy('auth').count().show()"
   ]
  },
  {
   "cell_type": "markdown",
   "metadata": {},
   "source": [
    "According to the two tables above, `fistName`, `gender`, `lastName`,`location`, `registration`,`userAgent` and  `auth` cols have NULL values when users are logged out or listening as Guest. Since we are really interested in users who are registered and likely to churn, we can remove these rows as they are not logged in users.  "
   ]
  },
  {
   "cell_type": "code",
   "execution_count": 61,
   "metadata": {},
   "outputs": [],
   "source": [
    "data = data.na.drop(subset=['firstName','gender', 'lastName','location', 'registration','userAgent', 'auth'])"
   ]
  },
  {
   "cell_type": "code",
   "execution_count": 62,
   "metadata": {},
   "outputs": [
    {
     "data": {
      "text/plain": [
       "<matplotlib.axes._subplots.AxesSubplot at 0x7fc56193cf98>"
      ]
     },
     "execution_count": 62,
     "metadata": {},
     "output_type": "execute_result"
    },
    {
     "data": {
      "image/png": "[encoded data removed]",
      "text/plain": [
       "<matplotlib.figure.Figure at 0x7fc561eb7320>"
      ]
     },
     "metadata": {
      "needs_background": "light"
     },
     "output_type": "display_data"
    }
   ],
   "source": [
    "sns.heatmap(data.toPandas().isnull())"
   ]
  },
  {
   "cell_type": "code",
   "execution_count": 63,
   "metadata": {},
   "outputs": [],
   "source": [
    "data = data\\\n",
    "    .withColumn('timestamp', from_unixtime(data.ts/1000))\n",
    "#     .withColumn('hr', hour(col('timestamp')))\\\n",
    "#     .withColumn('dow', dayofweek(col('timestamp')))\\\n",
    "#     .withColumn('month', month(col('timestamp')))\n",
    "#     .withColumn('date', to_date(col('timestamp')))\\\n",
    "#     .select('timestamp','date', 'hr','dow', \"month\")\\\n",
    "#     .sample(False, 0.1)\\\n",
    "#     .show()"
   ]
  },
  {
   "cell_type": "code",
   "execution_count": 64,
   "metadata": {},
   "outputs": [
    {
     "data": {
      "text/plain": [
       "[Row(artist='Martha Tilston', auth='Logged In', firstName='Colin', gender='M', itemInSession=50, lastName='Freeman', length=277.89016, level='paid', location='Bakersfield, CA', method='PUT', page='NextSong', registration=1538173362000, sessionId=29, song='Rockpools', status=200, ts=1538352117000, userAgent='Mozilla/5.0 (Windows NT 6.1; WOW64; rv:31.0) Gecko/20100101 Firefox/31.0', userId='30', timestamp='2018-10-01 00:01:57'),\n",
       " Row(artist='Five Iron Frenzy', auth='Logged In', firstName='Micah', gender='M', itemInSession=79, lastName='Long', length=236.09424, level='free', location='Boston-Cambridge-Newton, MA-NH', method='PUT', page='NextSong', registration=1538331630000, sessionId=8, song='Canada', status=200, ts=1538352180000, userAgent='\"Mozilla/5.0 (Windows NT 6.1; WOW64) AppleWebKit/537.36 (KHTML, like Gecko) Chrome/37.0.2062.103 Safari/537.36\"', userId='9', timestamp='2018-10-01 00:03:00')]"
      ]
     },
     "execution_count": 64,
     "metadata": {},
     "output_type": "execute_result"
    }
   ],
   "source": [
    "data.take(2)"
   ]
  },
  {
   "cell_type": "markdown",
   "metadata": {},
   "source": [
    "For our model, we will be dropping some fields as we do not need them, maybe they have duplicate information in other column or just not relevant. "
   ]
  },
  {
   "cell_type": "code",
   "execution_count": 65,
   "metadata": {},
   "outputs": [
    {
     "name": "stdout",
     "output_type": "stream",
     "text": [
      "+---------+------+-------------+-----+---------------+---------+------+-------------------+\n",
      "|     auth|gender|itemInSession|level|           page|sessionId|userId|          timestamp|\n",
      "+---------+------+-------------+-----+---------------+---------+------+-------------------+\n",
      "|Logged In|     M|           50| paid|       NextSong|       29|    30|2018-10-01 00:01:57|\n",
      "|Logged In|     M|           79| free|       NextSong|        8|     9|2018-10-01 00:03:00|\n",
      "|Logged In|     M|           51| paid|       NextSong|       29|    30|2018-10-01 00:06:34|\n",
      "|Logged In|     M|           80| free|       NextSong|        8|     9|2018-10-01 00:06:56|\n",
      "|Logged In|     M|           52| paid|       NextSong|       29|    30|2018-10-01 00:11:16|\n",
      "|Logged In|     M|           81| free|       NextSong|        8|     9|2018-10-01 00:11:18|\n",
      "|Logged In|     M|           82| free|       NextSong|        8|     9|2018-10-01 00:14:46|\n",
      "|Logged In|     M|           53| paid|       NextSong|       29|    30|2018-10-01 00:14:59|\n",
      "|Logged In|     M|           54| paid|Add to Playlist|       29|    30|2018-10-01 00:15:05|\n",
      "|Logged In|     M|           55| paid|       NextSong|       29|    30|2018-10-01 00:18:04|\n",
      "|Logged In|     M|           83| free|       NextSong|        8|     9|2018-10-01 00:19:06|\n",
      "|Logged In|     M|           84| free|    Roll Advert|        8|     9|2018-10-01 00:19:10|\n",
      "|Logged In|     M|           56| paid|       NextSong|       29|    30|2018-10-01 00:20:18|\n",
      "|Logged In|     M|           85| free|       NextSong|        8|     9|2018-10-01 00:22:55|\n",
      "|Logged In|     M|           86| free|      Thumbs Up|        8|     9|2018-10-01 00:22:56|\n",
      "|Logged In|     M|           57| paid|       NextSong|       29|    30|2018-10-01 00:24:01|\n",
      "|Logged In|     M|           87| free|       NextSong|        8|     9|2018-10-01 00:26:16|\n",
      "|Logged In|     F|            0| free|       NextSong|      217|    74|2018-10-01 00:27:48|\n",
      "|Logged In|     M|           58| paid|       NextSong|       29|    30|2018-10-01 00:28:07|\n",
      "|Logged In|     M|           88| free|       NextSong|        8|     9|2018-10-01 00:29:04|\n",
      "+---------+------+-------------+-----+---------------+---------+------+-------------------+\n",
      "only showing top 20 rows\n",
      "\n"
     ]
    }
   ],
   "source": [
    "cols_to_drop = ['userAgent', 'artist', 'firstName', 'lastName', 'location', 'song', \n",
    "                'ts', 'registration', 'length', 'method', 'status']\n",
    "\n",
    "data = data.drop(*cols_to_drop)\n",
    "\n",
    "data.show()"
   ]
  },
  {
   "cell_type": "code",
   "execution_count": 66,
   "metadata": {},
   "outputs": [
    {
     "name": "stdout",
     "output_type": "stream",
     "text": [
      "+-----+-------------------------+------+\n",
      "|level|page                     |count |\n",
      "+-----+-------------------------+------+\n",
      "|free |Help                     |322   |\n",
      "|free |Save Settings            |85    |\n",
      "|free |Add Friend               |893   |\n",
      "|free |Cancellation Confirmation|21    |\n",
      "|free |Upgrade                  |499   |\n",
      "|free |About                    |93    |\n",
      "|free |Thumbs Down              |613   |\n",
      "|free |NextSong                 |41991 |\n",
      "|free |Thumbs Up                |2209  |\n",
      "|free |Settings                 |360   |\n",
      "|free |Home                     |2621  |\n",
      "|free |Logout                   |922   |\n",
      "|free |Error                    |53    |\n",
      "|free |Add to Playlist          |1172  |\n",
      "|free |Roll Advert              |3687  |\n",
      "|free |Cancel                   |21    |\n",
      "|free |Submit Upgrade           |159   |\n",
      "|paid |Add Friend               |3384  |\n",
      "|paid |Downgrade                |2055  |\n",
      "|paid |Save Settings            |225   |\n",
      "|paid |Home                     |7461  |\n",
      "|paid |Error                    |199   |\n",
      "|paid |NextSong                 |186117|\n",
      "|paid |Thumbs Up                |10342 |\n",
      "|paid |Cancel                   |31    |\n",
      "|paid |Thumbs Down              |1933  |\n",
      "|paid |Roll Advert              |246   |\n",
      "|paid |Logout                   |2304  |\n",
      "|paid |Submit Downgrade         |63    |\n",
      "|paid |Add to Playlist          |5354  |\n",
      "|paid |About                    |402   |\n",
      "|paid |Cancellation Confirmation|31    |\n",
      "|paid |Settings                 |1154  |\n",
      "|paid |Help                     |1132  |\n",
      "+-----+-------------------------+------+\n",
      "\n"
     ]
    }
   ],
   "source": [
    "data.groupBy('level', 'page').count().orderBy('level').show(100, truncate=False)"
   ]
  },
  {
   "cell_type": "markdown",
   "metadata": {},
   "source": [
    "The table above tells us, both free and paid users can cancel their services, but only paid customers can downgrade services. Well, makes sense. I believe we can further filter down our dataframe as pages like **Settings** or **Help** won't tell much about churn."
   ]
  },
  {
   "cell_type": "code",
   "execution_count": 67,
   "metadata": {},
   "outputs": [],
   "source": [
    "pages_to_keep = ['NextSong', 'Downgrade', 'Cancellation Confirmation', 'Upgrade', \n",
    "                 'Add to Playlist', 'Cancel', 'Submit Upgrade', ]\n",
    "\n",
    "data = data.filter(col('page').isin(pages_to_keep))"
   ]
  },
  {
   "cell_type": "code",
   "execution_count": 68,
   "metadata": {},
   "outputs": [
    {
     "name": "stdout",
     "output_type": "stream",
     "text": [
      "+---------+--------------------+------+\n",
      "|     auth|                page| count|\n",
      "+---------+--------------------+------+\n",
      "|Cancelled|Cancellation Conf...|    52|\n",
      "|Logged In|      Submit Upgrade|   159|\n",
      "|Logged In|            NextSong|228108|\n",
      "|Logged In|     Add to Playlist|  6526|\n",
      "|Logged In|           Downgrade|  2055|\n",
      "|Logged In|             Upgrade|   499|\n",
      "|Logged In|              Cancel|    52|\n",
      "+---------+--------------------+------+\n",
      "\n"
     ]
    }
   ],
   "source": [
    "# We can either use page='Cancellation confirmation' or auth='Cancelled' as our label as their count match\n",
    "data.groupBy('auth', 'page').count().orderBy('auth').show()"
   ]
  },
  {
   "cell_type": "code",
   "execution_count": 69,
   "metadata": {},
   "outputs": [],
   "source": [
    "# joined = user_features\\\n",
    "#     .join(churn_data_summary, \n",
    "#           on=['userId'], \n",
    "#           how='left')\\\n",
    "#     .join(user_engagement, \n",
    "#           on=['userId'], \n",
    "#           how='left')\\\n",
    "#     .join(listen_freq,\n",
    "#           on=['userId'],\n",
    "#           how='left')\\\n",
    "#     .orderBy('userId')\\\n",
    "#     .fillna(False, subset=['churned'])\n",
    "\n",
    "# joined.show(40)"
   ]
  },
  {
   "cell_type": "code",
   "execution_count": 70,
   "metadata": {},
   "outputs": [],
   "source": [
    "# joined.cache()"
   ]
  },
  {
   "cell_type": "markdown",
   "metadata": {},
   "source": [
    "Numeric columns `sessionCount`, `meanSongCount` and `sessionsFreqDay` are all left skewed data, therefore before moving I'll apply `sqrt` or `log` transformations. Below are the transformations I decided for and the plots after transformation  "
   ]
  },
  {
   "cell_type": "code",
   "execution_count": 71,
   "metadata": {},
   "outputs": [],
   "source": [
    "# joined_df = joined.toPandas()"
   ]
  },
  {
   "cell_type": "code",
   "execution_count": 72,
   "metadata": {},
   "outputs": [],
   "source": [
    "# np.sqrt(joined_df['sessionsFreqDay']).hist()"
   ]
  },
  {
   "cell_type": "code",
   "execution_count": 73,
   "metadata": {},
   "outputs": [],
   "source": [
    "# np.sqrt(joined_df['meanSongCount']).hist()"
   ]
  },
  {
   "cell_type": "code",
   "execution_count": 74,
   "metadata": {},
   "outputs": [],
   "source": [
    "# np.log(joined_df['sessionCount']).hist()"
   ]
  },
  {
   "cell_type": "code",
   "execution_count": 75,
   "metadata": {},
   "outputs": [],
   "source": [
    "# joined.show(4)"
   ]
  },
  {
   "cell_type": "code",
   "execution_count": 76,
   "metadata": {},
   "outputs": [],
   "source": [
    "# joined = joined.withColumn('logSessionCount', F.log('sessionCount'))\\\n",
    "#       .withColumn('sqrtMeanSongCount', F.sqrt('meanSongCount'))\\\n",
    "#       .withColumn('sqrtSessionsFreqDay', F.sqrt('sessionsFreqDay'))\n",
    "# joined.cache()\n",
    "# joined.take(1)"
   ]
  },
  {
   "cell_type": "code",
   "execution_count": 77,
   "metadata": {},
   "outputs": [],
   "source": [
    "# joined.groupBy('churned','gender').agg({'sessionCount': 'mean', 'meanSongCount': 'mean'}).show()"
   ]
  },
  {
   "cell_type": "markdown",
   "metadata": {},
   "source": [
    "As expected churned users has overall lower mean value for `sessionCount` and `meanSongCount` per user"
   ]
  },
  {
   "cell_type": "code",
   "execution_count": 78,
   "metadata": {},
   "outputs": [],
   "source": [
    "# grp_window = Window.partitionBy('churned')\n",
    "# magic_percentile = F.expr('percentile_approx(meanSongCount, 0.5)')\n",
    "\n",
    "# joined.withColumn('median', magic_percentile.over(grp_window)).select('churned', 'median').distinct().show()"
   ]
  },
  {
   "cell_type": "code",
   "execution_count": 79,
   "metadata": {},
   "outputs": [],
   "source": [
    "# magic_percentile = F.expr('percentile_approx(sessionCount, 0.5)')\n",
    "\n",
    "# joined.withColumn('median', magic_percentile.over(grp_window)).select('churned', 'median').distinct().show()"
   ]
  },
  {
   "cell_type": "code",
   "execution_count": 80,
   "metadata": {},
   "outputs": [],
   "source": [
    "# from pyspark.ml.feature import StringIndexer\n",
    "\n",
    "# joined = StringIndexer(inputCol='gender', outputCol='gender_idx')\\\n",
    "#                     .fit(joined)\\\n",
    "#                     .transform(joined)\n",
    "\n",
    "# joined = StringIndexer(inputCol='level', outputCol='level_idx')\\\n",
    "#                     .fit(joined)\\\n",
    "#                     .transform(joined)\n",
    "\n",
    "# joined = OneHotEncoderEstimator(inputCols=['gender_idx', 'level_idx'], outputCols=['gender_dummy','level_dummy'])\\\n",
    "#             .fit(joined)\\\n",
    "#             .transform(joined)"
   ]
  },
  {
   "cell_type": "code",
   "execution_count": 81,
   "metadata": {},
   "outputs": [],
   "source": [
    "# joined.take(1)"
   ]
  },
  {
   "cell_type": "code",
   "execution_count": 82,
   "metadata": {},
   "outputs": [],
   "source": [
    "# from pyspark.ml.feature import VectorAssembler\n",
    "\n",
    "# joined_vector = VectorAssembler(inputCols=['gender_dummy', 'level_dummy', 'logSessionCount', \n",
    "#                                            'sqrtMeanSongCount', 'sqrtSessionsFreqDay'],\n",
    "#                             outputCol='features').transform(joined)\n",
    "\n",
    "# joined_vector.drop('userId','level','gender', 'sessionCount', \n",
    "#                    'meanSongCount', 'sessionsFreqDay', 'gender_idx', 'level_idx').show()"
   ]
  },
  {
   "cell_type": "code",
   "execution_count": 83,
   "metadata": {},
   "outputs": [],
   "source": [
    "# from pyspark.ml.feature import StandardScaler, MinMaxScaler\n",
    "\n",
    "# scaled = StandardScaler(inputCol=\"features\", outputCol=\"scaledFeatures\",\n",
    "#                         withStd=True, withMean=False)\\\n",
    "#                         .fit(joined_vector)\\\n",
    "#                         .transform(joined_vector)\n",
    "\n",
    "# minmaxscaled = MinMaxScaler(inputCol=\"features\", outputCol=\"scaledFeatures\")\\\n",
    "#                              .fit(joined_vector)\\\n",
    "#                              .transform(joined_vector)\n",
    "\n",
    "# scaled.select('features', 'scaledFeatures').take(2)"
   ]
  },
  {
   "cell_type": "code",
   "execution_count": 84,
   "metadata": {},
   "outputs": [],
   "source": [
    "# minmaxscaled.select('features', 'scaledFeatures').take(2)"
   ]
  },
  {
   "cell_type": "code",
   "execution_count": 85,
   "metadata": {},
   "outputs": [],
   "source": [
    "# df = minmaxscaled.withColumn('label', minmaxscaled.churned.cast('integer'))\n",
    "# df.cache()"
   ]
  },
  {
   "cell_type": "code",
   "execution_count": 86,
   "metadata": {},
   "outputs": [],
   "source": [
    "# df.take(1)"
   ]
  },
  {
   "cell_type": "code",
   "execution_count": 87,
   "metadata": {},
   "outputs": [],
   "source": [
    "# train, test = df.randomSplit([0.8, 0.2], seed=42)\n",
    "\n",
    "# from pyspark.ml.classification import DecisionTreeClassifier\n",
    "\n",
    "# tree = DecisionTreeClassifier()\n",
    "# tree_model = tree.fit(train)"
   ]
  },
  {
   "cell_type": "code",
   "execution_count": 88,
   "metadata": {},
   "outputs": [],
   "source": [
    "# prediction = tree_model.transform(test)\n",
    "# prediction.select('label', 'prediction', 'probability').show(20, False)"
   ]
  },
  {
   "cell_type": "code",
   "execution_count": 89,
   "metadata": {},
   "outputs": [],
   "source": [
    "# prediction.groupBy('label', 'prediction').count().show()"
   ]
  },
  {
   "cell_type": "markdown",
   "metadata": {},
   "source": [
    "Basic Decision tree classifier was fairly good indeed, it predicted 12 out of 17 churned users successfully in test dataset, and coulnd't predict 5 customers who churned. Also It predicted 3 customers were going to churn but didn't."
   ]
  },
  {
   "cell_type": "code",
   "execution_count": 90,
   "metadata": {},
   "outputs": [],
   "source": [
    "# from pyspark.ml.classification import LogisticRegression\n",
    "\n",
    "# prediction_logistic = LogisticRegression().fit(train).transform(test)\n",
    "# prediction_logistic.groupBy('label', 'prediction').count().show()"
   ]
  },
  {
   "cell_type": "code",
   "execution_count": 91,
   "metadata": {},
   "outputs": [],
   "source": [
    "# from pyspark.ml.classification import GBTClassifier, RandomForestClassifier\n",
    "\n",
    "# pred_forest = RandomForestClassifier().fit(train).transform(test)\n",
    "# pred_forest.groupBy('label', 'prediction').count().show()"
   ]
  },
  {
   "cell_type": "code",
   "execution_count": 92,
   "metadata": {},
   "outputs": [],
   "source": [
    "# pred_gbt = GBTClassifier().fit(train).transform(test)\n",
    "# pred_gbt.groupBy('label', 'prediction').count().show()"
   ]
  },
  {
   "cell_type": "code",
   "execution_count": 93,
   "metadata": {},
   "outputs": [],
   "source": [
    "# # Instead of min max scaling we can use standard scaled as our numeric values are roughly normally distributed\n",
    "# df2 = scaled.withColumn('label', minmaxscaled.churned.cast('integer'))\n",
    "# df2.cache()"
   ]
  },
  {
   "cell_type": "code",
   "execution_count": 94,
   "metadata": {},
   "outputs": [],
   "source": [
    "# train2, test2 = df2.randomSplit([0.8, 0.2], seed=42)\n",
    "\n",
    "# tree = DecisionTreeClassifier()\n",
    "# prediction2 = tree.fit(train2).transform(test2)\n",
    "# prediction2.groupBy('label', 'prediction').count().show()"
   ]
  },
  {
   "cell_type": "code",
   "execution_count": 95,
   "metadata": {},
   "outputs": [],
   "source": [
    "# pred_forest2 = RandomForestClassifier().fit(train2).transform(test2)\n",
    "# pred_forest2.groupBy('label', 'prediction').count().show()"
   ]
  },
  {
   "cell_type": "markdown",
   "metadata": {},
   "source": [
    "# Exploratory Data Analysis\n",
    "When you're working with the full dataset, perform EDA by loading a small subset of the data and doing basic manipulations within Spark. In this workspace, you are already provided a small subset of data you can explore.\n",
    "\n",
    "### Define Churn\n",
    "\n",
    "Once you've done some preliminary analysis, create a column `Churn` to use as the label for your model. I suggest using the `Cancellation Confirmation` events to define your churn, which happen for both paid and free users. As a bonus task, you can also look into the `Downgrade` events.\n",
    "\n",
    "### Explore Data\n",
    "Once you've defined churn, perform some exploratory data analysis to observe the behavior for users who stayed vs users who churned. You can start by exploring aggregates on these two groups of users, observing how much of a specific action they experienced per a certain time unit or number of songs played."
   ]
  },
  {
   "cell_type": "markdown",
   "metadata": {},
   "source": [
    "**My Comment**: I agree wıth the definition above, `Cancellation Confirmation` is the most clear KPI for churn. `Downgrade` page is accessed hundreds of times but, data doesn't clearly tell us if users downgraded after accessing this page, such as we do not have `Downgrade Confirmed` followed by a `Downgrade` page. Also the number of `Downgrade` row in the dataset are far bigger than unique users. Therefore I sticked to the `Cancellation Confirmation` as the churn indicator."
   ]
  },
  {
   "cell_type": "code",
   "execution_count": 96,
   "metadata": {},
   "outputs": [
    {
     "data": {
      "text/plain": [
       "{'auth': 0,\n",
       " 'gender': 0,\n",
       " 'itemInSession': 0,\n",
       " 'level': 0,\n",
       " 'page': 0,\n",
       " 'sessionId': 0,\n",
       " 'userId': 0,\n",
       " 'timestamp': 0}"
      ]
     },
     "execution_count": 96,
     "metadata": {},
     "output_type": "execute_result"
    }
   ],
   "source": [
    "# In our final dataset we do not have any null values\n",
    "data.select([count(when(col(c).isNull(), c)).alias(c) for c in data.columns]).head().asDict()"
   ]
  },
  {
   "cell_type": "code",
   "execution_count": 97,
   "metadata": {},
   "outputs": [
    {
     "name": "stdout",
     "output_type": "stream",
     "text": [
      "+---------+--------------------+------+\n",
      "|     auth|                page| count|\n",
      "+---------+--------------------+------+\n",
      "|Cancelled|Cancellation Conf...|    52|\n",
      "|Logged In|      Submit Upgrade|   159|\n",
      "|Logged In|            NextSong|228108|\n",
      "|Logged In|     Add to Playlist|  6526|\n",
      "|Logged In|           Downgrade|  2055|\n",
      "|Logged In|             Upgrade|   499|\n",
      "|Logged In|              Cancel|    52|\n",
      "+---------+--------------------+------+\n",
      "\n"
     ]
    }
   ],
   "source": [
    "# We can either use page='Cancellation confirmation' or auth='Cancelled' as our label as their count match\n",
    "data.groupBy('auth', 'page').count().orderBy('auth').show()"
   ]
  },
  {
   "cell_type": "markdown",
   "metadata": {},
   "source": [
    "*How many distinct users do we have in our dataset?*"
   ]
  },
  {
   "cell_type": "code",
   "execution_count": 98,
   "metadata": {},
   "outputs": [
    {
     "data": {
      "text/plain": [
       "225"
      ]
     },
     "execution_count": 98,
     "metadata": {},
     "output_type": "execute_result"
    }
   ],
   "source": [
    "data.select('userId').distinct().count()"
   ]
  },
  {
   "cell_type": "markdown",
   "metadata": {},
   "source": [
    "*Let's have a look at a random user's listening activity. `itemInSession` increments monotonically for a continuous listening session. We may extract the max value for each session to understand user engagement (later in Feature Engineering section)*"
   ]
  },
  {
   "cell_type": "code",
   "execution_count": 99,
   "metadata": {},
   "outputs": [
    {
     "name": "stdout",
     "output_type": "stream",
     "text": [
      "+---------+------+-------------+-----+---------------+---------+------+-------------------+\n",
      "|     auth|gender|itemInSession|level|           page|sessionId|userId|          timestamp|\n",
      "+---------+------+-------------+-----+---------------+---------+------+-------------------+\n",
      "|Logged In|     M|           50| paid|       NextSong|       29|    30|2018-10-01 00:01:57|\n",
      "|Logged In|     M|           51| paid|       NextSong|       29|    30|2018-10-01 00:06:34|\n",
      "|Logged In|     M|           52| paid|       NextSong|       29|    30|2018-10-01 00:11:16|\n",
      "|Logged In|     M|           53| paid|       NextSong|       29|    30|2018-10-01 00:14:59|\n",
      "|Logged In|     M|           54| paid|Add to Playlist|       29|    30|2018-10-01 00:15:05|\n",
      "|Logged In|     M|           55| paid|       NextSong|       29|    30|2018-10-01 00:18:04|\n",
      "|Logged In|     M|           56| paid|       NextSong|       29|    30|2018-10-01 00:20:18|\n",
      "|Logged In|     M|           57| paid|       NextSong|       29|    30|2018-10-01 00:24:01|\n",
      "|Logged In|     M|           58| paid|       NextSong|       29|    30|2018-10-01 00:28:07|\n",
      "|Logged In|     M|           59| paid|       NextSong|       29|    30|2018-10-01 00:31:49|\n",
      "|Logged In|     M|           60| paid|       NextSong|       29|    30|2018-10-01 00:35:32|\n",
      "|Logged In|     M|           61| paid|       NextSong|       29|    30|2018-10-01 00:39:25|\n",
      "|Logged In|     M|           62| paid|       NextSong|       29|    30|2018-10-01 00:43:04|\n",
      "|Logged In|     M|           63| paid|       NextSong|       29|    30|2018-10-01 00:46:46|\n",
      "|Logged In|     M|           64| paid|       NextSong|       29|    30|2018-10-01 00:49:05|\n",
      "|Logged In|     M|           65| paid|       NextSong|       29|    30|2018-10-01 00:54:16|\n",
      "|Logged In|     M|           66| paid|       NextSong|       29|    30|2018-10-01 00:57:53|\n",
      "|Logged In|     M|           67| paid|       NextSong|       29|    30|2018-10-01 01:01:51|\n",
      "|Logged In|     M|           68| paid|       NextSong|       29|    30|2018-10-01 01:05:15|\n",
      "|Logged In|     M|           69| paid|       NextSong|       29|    30|2018-10-01 01:11:03|\n",
      "|Logged In|     M|           70| paid|       NextSong|       29|    30|2018-10-01 01:15:23|\n",
      "|Logged In|     M|           72| paid|       NextSong|       29|    30|2018-10-01 01:18:27|\n",
      "|Logged In|     M|           73| paid|       NextSong|       29|    30|2018-10-01 01:21:43|\n",
      "|Logged In|     M|           74| paid|       NextSong|       29|    30|2018-10-01 01:27:03|\n",
      "|Logged In|     M|           75| paid|       NextSong|       29|    30|2018-10-01 01:30:52|\n",
      "|Logged In|     M|           76| paid|       NextSong|       29|    30|2018-10-01 01:34:08|\n",
      "|Logged In|     M|           78| paid|       NextSong|       29|    30|2018-10-01 01:39:50|\n",
      "|Logged In|     M|           80| paid|       NextSong|       29|    30|2018-10-01 01:45:14|\n",
      "|Logged In|     M|           81| paid|       NextSong|       29|    30|2018-10-01 01:48:52|\n",
      "|Logged In|     M|           82| paid|       NextSong|       29|    30|2018-10-01 01:52:41|\n",
      "|Logged In|     M|           83| paid|       NextSong|       29|    30|2018-10-01 01:57:34|\n",
      "|Logged In|     M|           84| paid|       NextSong|       29|    30|2018-10-01 02:02:00|\n",
      "|Logged In|     M|           85| paid|       NextSong|       29|    30|2018-10-01 02:25:20|\n",
      "|Logged In|     M|           87| paid|       NextSong|       29|    30|2018-10-01 02:28:25|\n",
      "|Logged In|     M|           88| paid|       NextSong|       29|    30|2018-10-01 02:31:47|\n",
      "|Logged In|     M|           89| paid|       NextSong|       29|    30|2018-10-01 02:36:12|\n",
      "|Logged In|     M|           90| paid|       NextSong|       29|    30|2018-10-01 02:39:00|\n",
      "|Logged In|     M|           91| paid|Add to Playlist|       29|    30|2018-10-01 02:39:35|\n",
      "|Logged In|     M|            0| paid|       NextSong|      264|    30|2018-10-06 07:23:50|\n",
      "|Logged In|     M|            1| paid|       NextSong|      532|    30|2018-10-07 21:37:20|\n",
      "|Logged In|     M|            2| paid|       NextSong|      532|    30|2018-10-07 21:43:11|\n",
      "|Logged In|     M|            3| paid|       NextSong|      532|    30|2018-10-07 21:47:17|\n",
      "|Logged In|     M|            4| paid|       NextSong|      532|    30|2018-10-07 21:50:34|\n",
      "|Logged In|     M|            5| paid|       NextSong|      532|    30|2018-10-07 21:53:45|\n",
      "|Logged In|     M|            6| paid|       NextSong|      532|    30|2018-10-07 21:59:08|\n",
      "|Logged In|     M|            7| paid|       NextSong|      532|    30|2018-10-07 22:04:53|\n",
      "|Logged In|     M|            8| paid|       NextSong|      532|    30|2018-10-07 22:07:52|\n",
      "|Logged In|     M|            9| paid|       NextSong|      532|    30|2018-10-07 22:11:42|\n",
      "|Logged In|     M|           10| paid|       NextSong|      532|    30|2018-10-07 22:15:41|\n",
      "|Logged In|     M|           13| paid|       NextSong|      532|    30|2018-10-07 22:20:12|\n",
      "|Logged In|     M|           14| paid|       NextSong|      532|    30|2018-10-07 22:25:23|\n",
      "|Logged In|     M|           15| paid|       NextSong|      532|    30|2018-10-07 22:28:47|\n",
      "|Logged In|     M|           16| paid|       NextSong|      532|    30|2018-10-07 22:32:46|\n",
      "|Logged In|     M|           17| paid|       NextSong|      532|    30|2018-10-07 22:35:58|\n",
      "|Logged In|     M|           18| paid|       NextSong|      532|    30|2018-10-07 22:39:36|\n",
      "|Logged In|     M|           19| paid|       NextSong|      532|    30|2018-10-07 22:42:25|\n",
      "|Logged In|     M|           20| paid|       NextSong|      532|    30|2018-10-07 22:46:21|\n",
      "|Logged In|     M|           21| paid|       NextSong|      532|    30|2018-10-07 22:50:21|\n",
      "|Logged In|     M|           22| paid|       NextSong|      532|    30|2018-10-07 22:53:57|\n",
      "|Logged In|     M|           23| paid|       NextSong|      532|    30|2018-10-07 22:58:11|\n",
      "|Logged In|     M|           24| paid|       NextSong|      532|    30|2018-10-07 23:01:22|\n",
      "|Logged In|     M|           25| paid|       NextSong|      532|    30|2018-10-07 23:05:07|\n",
      "|Logged In|     M|           26| paid|      Downgrade|      532|    30|2018-10-07 23:05:26|\n",
      "|Logged In|     M|           27| paid|       NextSong|      532|    30|2018-10-07 23:09:19|\n",
      "|Logged In|     M|           28| paid|       NextSong|      532|    30|2018-10-07 23:12:04|\n",
      "|Logged In|     M|           29| paid|       NextSong|      532|    30|2018-10-07 23:16:16|\n",
      "|Logged In|     M|           30| paid|       NextSong|      532|    30|2018-10-07 23:18:34|\n",
      "|Logged In|     M|           31| paid|       NextSong|      532|    30|2018-10-07 23:21:35|\n",
      "|Logged In|     M|           32| paid|       NextSong|      532|    30|2018-10-07 23:25:28|\n",
      "|Logged In|     M|           33| paid|       NextSong|      532|    30|2018-10-07 23:28:22|\n",
      "|Logged In|     M|           34| paid|       NextSong|      532|    30|2018-10-07 23:32:31|\n",
      "|Logged In|     M|           35| paid|       NextSong|      532|    30|2018-10-07 23:36:17|\n",
      "|Logged In|     M|           36| paid|       NextSong|      532|    30|2018-10-07 23:39:55|\n",
      "|Logged In|     M|           37| paid|       NextSong|      532|    30|2018-10-07 23:43:55|\n",
      "|Logged In|     M|           38| paid|       NextSong|      532|    30|2018-10-07 23:47:16|\n",
      "|Logged In|     M|           39| paid|       NextSong|      532|    30|2018-10-07 23:50:30|\n",
      "|Logged In|     M|           40| paid|       NextSong|      532|    30|2018-10-07 23:54:35|\n",
      "|Logged In|     M|           41| paid|       NextSong|      532|    30|2018-10-08 00:00:16|\n",
      "|Logged In|     M|           42| paid|       NextSong|      532|    30|2018-10-08 00:04:15|\n",
      "|Logged In|     M|           43| paid|       NextSong|      532|    30|2018-10-08 00:07:08|\n",
      "|Logged In|     M|           44| paid|       NextSong|      532|    30|2018-10-08 00:13:09|\n",
      "|Logged In|     M|           45| paid|       NextSong|      532|    30|2018-10-08 00:16:03|\n",
      "|Logged In|     M|           46| paid|       NextSong|      532|    30|2018-10-08 00:19:20|\n",
      "|Logged In|     M|           47| paid|       NextSong|      532|    30|2018-10-08 00:21:30|\n",
      "|Logged In|     M|           48| paid|       NextSong|      532|    30|2018-10-08 00:26:27|\n",
      "|Logged In|     M|           49| paid|       NextSong|      532|    30|2018-10-08 00:31:06|\n",
      "|Logged In|     M|           50| paid|       NextSong|      532|    30|2018-10-08 00:35:23|\n",
      "|Logged In|     M|           51| paid|       NextSong|      532|    30|2018-10-08 00:37:07|\n",
      "|Logged In|     M|           52| paid|       NextSong|      532|    30|2018-10-08 00:41:20|\n",
      "|Logged In|     M|           53| paid|       NextSong|      532|    30|2018-10-08 00:45:33|\n",
      "|Logged In|     M|           54| paid|       NextSong|      532|    30|2018-10-08 00:52:43|\n",
      "|Logged In|     M|           55| paid|       NextSong|      532|    30|2018-10-08 00:56:53|\n",
      "|Logged In|     M|           56| paid|       NextSong|      532|    30|2018-10-08 01:01:05|\n",
      "|Logged In|     M|           57| paid|       NextSong|      532|    30|2018-10-08 01:04:33|\n",
      "|Logged In|     M|           58| paid|       NextSong|      532|    30|2018-10-08 01:09:52|\n",
      "|Logged In|     M|           59| paid|       NextSong|      532|    30|2018-10-08 01:15:30|\n",
      "|Logged In|     M|           60| paid|       NextSong|      532|    30|2018-10-08 01:18:06|\n",
      "|Logged In|     M|           61| paid|       NextSong|      532|    30|2018-10-08 01:22:05|\n",
      "|Logged In|     M|           62| paid|       NextSong|      532|    30|2018-10-08 01:26:57|\n",
      "|Logged In|     M|           63| paid|       NextSong|      532|    30|2018-10-08 01:28:27|\n",
      "+---------+------+-------------+-----+---------------+---------+------+-------------------+\n",
      "only showing top 100 rows\n",
      "\n"
     ]
    }
   ],
   "source": [
    "data.filter(col('userId') == 30).show(100)"
   ]
  },
  {
   "cell_type": "markdown",
   "metadata": {},
   "source": [
    "*Let's have brief look at churned users/susbcribers* Looks like both `free` and `paid` customers can churn. We save this data to `churn_data` as we will use this in later when joining in Feature Engineering section*"
   ]
  },
  {
   "cell_type": "code",
   "execution_count": 100,
   "metadata": {},
   "outputs": [
    {
     "name": "stdout",
     "output_type": "stream",
     "text": [
      "+---------+------+-------------+-----+--------------------+---------+------+-------------------+\n",
      "|     auth|gender|itemInSession|level|                page|sessionId|userId|          timestamp|\n",
      "+---------+------+-------------+-----+--------------------+---------+------+-------------------+\n",
      "|Cancelled|     M|          104| paid|Cancellation Conf...|      514|    18|2018-10-07 20:26:30|\n",
      "|Cancelled|     M|           56| paid|Cancellation Conf...|      540|    32|2018-10-08 21:10:46|\n",
      "|Cancelled|     M|           10| free|Cancellation Conf...|      174|   125|2018-10-12 04:35:18|\n",
      "|Cancelled|     M|          332| paid|Cancellation Conf...|      508|   105|2018-10-12 20:17:21|\n",
      "|Cancelled|     F|          273| paid|Cancellation Conf...|      797|    17|2018-10-13 21:19:44|\n",
      "|Cancelled|     F|           29| free|Cancellation Conf...|      843|   143|2018-10-15 07:34:14|\n",
      "|Cancelled|     M|          145| paid|Cancellation Conf...|      842|   101|2018-10-16 22:30:37|\n",
      "|Cancelled|     M|           34| paid|Cancellation Conf...|      802|   129|2018-10-17 00:29:21|\n",
      "|Cancelled|     M|          287| paid|Cancellation Conf...|      881|   121|2018-10-17 07:02:29|\n",
      "|Cancelled|     M|          176| paid|Cancellation Conf...|      934|    51|2018-10-17 07:39:32|\n",
      "+---------+------+-------------+-----+--------------------+---------+------+-------------------+\n",
      "only showing top 10 rows\n",
      "\n"
     ]
    }
   ],
   "source": [
    "churn_data = data.filter(col('page')=='Cancellation Confirmation')\n",
    "churn_data.show(10)"
   ]
  },
  {
   "cell_type": "markdown",
   "metadata": {},
   "source": [
    "*We'll later need a list of chruned users when joining datasets in Feature engineering section, create a new column names `churned` *"
   ]
  },
  {
   "cell_type": "code",
   "execution_count": 101,
   "metadata": {},
   "outputs": [
    {
     "name": "stdout",
     "output_type": "stream",
     "text": [
      "+------+-------+\n",
      "|userId|churned|\n",
      "+------+-------+\n",
      "|    18|   true|\n",
      "|    32|   true|\n",
      "|   125|   true|\n",
      "|   105|   true|\n",
      "|    17|   true|\n",
      "|   143|   true|\n",
      "|   101|   true|\n",
      "|   129|   true|\n",
      "|   121|   true|\n",
      "|    51|   true|\n",
      "+------+-------+\n",
      "only showing top 10 rows\n",
      "\n"
     ]
    }
   ],
   "source": [
    "churn_data_summary = churn_data.select('userId').withColumn('churned', F.lit(True))\n",
    "churn_data_summary.show(10)"
   ]
  },
  {
   "cell_type": "markdown",
   "metadata": {},
   "source": [
    "# Feature Engineering\n",
    "Once you've familiarized yourself with the data, build out the features you find promising to train your model on. To work with the full dataset, you can follow the following steps.\n",
    "- Write a script to extract the necessary features from the smaller subset of data\n",
    "- Ensure that your script is scalable, using the best practices discussed in Lesson 3\n",
    "- Try your script on the full data set, debugging your script if necessary\n",
    "\n",
    "If you are working in the classroom workspace, you can just extract features based on the small subset of data contained here. Be sure to transfer over this work to the larger dataset when you work on your Spark cluster."
   ]
  },
  {
   "cell_type": "markdown",
   "metadata": {},
   "source": [
    "**One useful feature to measure user engagement would be to see how freqeuntly users are listening Sparkify platform.\n",
    "We look at how many sessions a suser has and mean time between sessions would give us user engagement**"
   ]
  },
  {
   "cell_type": "code",
   "execution_count": 102,
   "metadata": {},
   "outputs": [
    {
     "name": "stdout",
     "output_type": "stream",
     "text": [
      "+------+-------------------+-------------------+------------+------------------+\n",
      "|userId|     minSessionTime|     maxSessionTime|sessionCount|   sessionsFreqDay|\n",
      "+------+-------------------+-------------------+------------+------------------+\n",
      "|    10|2018-10-08 02:20:20|2018-11-19 07:14:10|           6|               7.0|\n",
      "|   100|2018-10-02 15:04:22|2018-11-30 08:44:40|          34|1.7352941176470589|\n",
      "|100001|2018-10-01 06:48:29|2018-10-02 15:39:43|           4|              0.25|\n",
      "|100002|2018-10-08 22:57:34|2018-12-03 01:11:16|           4|              14.0|\n",
      "|100003|2018-10-09 15:53:40|2018-10-11 13:04:40|           2|               1.0|\n",
      "|100004|2018-10-03 02:47:47|2018-11-28 19:35:21|          20|               2.8|\n",
      "|100005|2018-10-01 15:16:56|2018-10-19 14:27:58|           4|               4.5|\n",
      "|100006|2018-10-05 13:51:06|2018-10-05 13:51:06|           1|               0.0|\n",
      "|100007|2018-10-02 07:30:03|2018-11-29 00:29:48|           9| 6.444444444444445|\n",
      "|100008|2018-10-09 16:14:24|2018-11-27 13:56:50|           6| 8.166666666666666|\n",
      "+------+-------------------+-------------------+------------+------------------+\n",
      "only showing top 10 rows\n",
      "\n"
     ]
    }
   ],
   "source": [
    "listen_freq = data.select('userId','sessionId', 'timeStamp')\\\n",
    "    .groupBy('userId','sessionId')\\\n",
    "    .agg(F.min('timeStamp').alias('sessionTime'))\\\n",
    "    .orderBy('userId', 'sessionId')\\\n",
    "    .groupBy('userId')\\\n",
    "    .agg(F.min('sessionTime').alias('minSessionTime'), \n",
    "         F.max('sessionTime').alias('maxSessionTime'),\n",
    "         F.count('sessionId').alias('sessionCount'))\\\n",
    "    .withColumn('sessionsFreqDay', F.datediff('maxSessionTime', 'minSessionTime')/col('sessionCount'))\\\n",
    "    .orderBy('userId')\n",
    "\n",
    "listen_freq.cache()\n",
    "listen_freq.show(10)"
   ]
  },
  {
   "cell_type": "markdown",
   "metadata": {},
   "source": [
    "In our model, we will only need the `sessionsFreqDay` as our feature and `userId` is the key for joining other datasets below, remanining columns are not necessary so we are filtering out"
   ]
  },
  {
   "cell_type": "code",
   "execution_count": 103,
   "metadata": {},
   "outputs": [
    {
     "name": "stdout",
     "output_type": "stream",
     "text": [
      "+------+------------------+\n",
      "|userId|   sessionsFreqDay|\n",
      "+------+------------------+\n",
      "|    10|               7.0|\n",
      "|   100|1.7352941176470589|\n",
      "|100001|              0.25|\n",
      "|100002|              14.0|\n",
      "|100003|               1.0|\n",
      "|100004|               2.8|\n",
      "|100005|               4.5|\n",
      "|100006|               0.0|\n",
      "|100007| 6.444444444444445|\n",
      "|100008| 8.166666666666666|\n",
      "+------+------------------+\n",
      "only showing top 10 rows\n",
      "\n"
     ]
    }
   ],
   "source": [
    "listen_freq = listen_freq.select('userId', 'sessionsFreqDay')\n",
    "listen_freq.show(10)"
   ]
  },
  {
   "cell_type": "markdown",
   "metadata": {},
   "source": [
    "*Below is a dataset showing each user's listening activity summary, how many sessions they listened and average song count for all sessions. These might be good indicators for churn prediction as these metrics are likely to relate to customer engagement.*"
   ]
  },
  {
   "cell_type": "code",
   "execution_count": 104,
   "metadata": {},
   "outputs": [
    {
     "name": "stdout",
     "output_type": "stream",
     "text": [
      "+------+------------+------------------+\n",
      "|userId|sessionCount|     meanSongCount|\n",
      "+------+------------+------------------+\n",
      "|    10|           6|133.66666666666666|\n",
      "|   100|          34| 95.17647058823529|\n",
      "|100001|           4|             48.75|\n",
      "|100002|           4|             52.75|\n",
      "|100003|           2|              41.0|\n",
      "|100004|          20|              62.3|\n",
      "|100005|           4|             52.75|\n",
      "|100006|           1|              45.0|\n",
      "|100007|           9|57.666666666666664|\n",
      "|100008|           6|157.33333333333334|\n",
      "+------+------------+------------------+\n",
      "only showing top 10 rows\n",
      "\n"
     ]
    }
   ],
   "source": [
    "user_engagement = data\\\n",
    "    .groupBy('userId', 'sessionId')\\\n",
    "    .agg(F.max('itemInSession').alias('itemCount'))\\\n",
    "    .groupBy('userId')\\\n",
    "    .agg({\"itemCount\": \"mean\", \"sessionId\": \"count\"})\\\n",
    "    .withColumnRenamed('count(sessionId)', 'sessionCount')\\\n",
    "    .withColumnRenamed('avg(itemCount)', 'meanSongCount')\\\n",
    "    .orderBy('userId')\n",
    "\n",
    "user_engagement.show(10)"
   ]
  },
  {
   "cell_type": "markdown",
   "metadata": {},
   "source": [
    "*Below is the SQL equivalent of the pyspark code above for `user_engagement`, I just added here for reference, it exactly gives the same data, but use a bit easier to read for reference. *"
   ]
  },
  {
   "cell_type": "code",
   "execution_count": 105,
   "metadata": {},
   "outputs": [
    {
     "name": "stdout",
     "output_type": "stream",
     "text": [
      "+------+------------+------------------+\n",
      "|userId|sessionCount|     meanSongCount|\n",
      "+------+------------+------------------+\n",
      "|    10|           6|133.66666666666666|\n",
      "|   100|          34| 95.17647058823529|\n",
      "|100001|           4|             48.75|\n",
      "|100002|           4|             52.75|\n",
      "|100003|           2|              41.0|\n",
      "|100004|          20|              62.3|\n",
      "|100005|           4|             52.75|\n",
      "|100006|           1|              45.0|\n",
      "|100007|           9|57.666666666666664|\n",
      "|100008|           6|157.33333333333334|\n",
      "+------+------------+------------------+\n",
      "only showing top 10 rows\n",
      "\n"
     ]
    }
   ],
   "source": [
    "# Show that we can do the same calculation above using SQL\n",
    "data.createOrReplaceTempView('sparkify')\n",
    "sub_query = \"\"\"\n",
    "\n",
    "SELECT \n",
    "    userId, \n",
    "    sessionId, \n",
    "    max(itemInSession) as itemCount\n",
    "FROM\n",
    "    sparkify \n",
    "GROUP BY \n",
    "    userId, sessionId\n",
    "ORDER BY \n",
    "    userId, sessionId\n",
    "\"\"\"\n",
    "\n",
    "query = \"\"\"\n",
    "SELECT \n",
    "    userId, \n",
    "    count(userId) as sessionCount, \n",
    "    avg(itemCount) as meanSongCount\n",
    "FROM \n",
    "    ({sub_query})\n",
    "GROUP BY \n",
    "    userId\n",
    "ORDER BY\n",
    "    userId\n",
    "\"\"\".format(sub_query=sub_query)\n",
    "\n",
    "spark.sql(query).show(10)"
   ]
  },
  {
   "cell_type": "markdown",
   "metadata": {},
   "source": [
    "*Information like `gender` and `level` are could be useful when predicting churn, let's save these features into `user_feature` dataframe*"
   ]
  },
  {
   "cell_type": "code",
   "execution_count": 106,
   "metadata": {},
   "outputs": [
    {
     "name": "stdout",
     "output_type": "stream",
     "text": [
      "+------+------+-----+\n",
      "|gender|userid|level|\n",
      "+------+------+-----+\n",
      "|     M|    10| paid|\n",
      "|     M|   100| paid|\n",
      "|     M|   100| free|\n",
      "|     F|100001| free|\n",
      "|     F|100002| paid|\n",
      "|     F|100003| free|\n",
      "|     F|100004| free|\n",
      "|     F|100004| paid|\n",
      "|     M|100005| free|\n",
      "|     F|100006| free|\n",
      "+------+------+-----+\n",
      "only showing top 10 rows\n",
      "\n"
     ]
    }
   ],
   "source": [
    "user_features = data.select('gender', 'userid', 'level').distinct().orderBy('userId')\n",
    "user_features.show(10)"
   ]
  },
  {
   "cell_type": "markdown",
   "metadata": {},
   "source": [
    "Finally, let's join all the features we have created above into a `joined` dataframe "
   ]
  },
  {
   "cell_type": "code",
   "execution_count": 170,
   "metadata": {},
   "outputs": [
    {
     "name": "stdout",
     "output_type": "stream",
     "text": [
      "+------+------+-----+-------+------------+------------------+------------------+\n",
      "|userid|gender|level|churned|sessionCount|     meanSongCount|   sessionsFreqDay|\n",
      "+------+------+-----+-------+------------+------------------+------------------+\n",
      "|    10|     M| paid|      0|           6|133.66666666666666|               7.0|\n",
      "|   100|     M| free|      0|          34| 95.17647058823529|1.7352941176470589|\n",
      "|   100|     M| paid|      0|          34| 95.17647058823529|1.7352941176470589|\n",
      "|100001|     F| free|      1|           4|             48.75|              0.25|\n",
      "|100002|     F| paid|      0|           4|             52.75|              14.0|\n",
      "+------+------+-----+-------+------------+------------------+------------------+\n",
      "only showing top 5 rows\n",
      "\n"
     ]
    }
   ],
   "source": [
    "j.withColumn('churned', col('churned').cast('integer')).show(5)"
   ]
  },
  {
   "cell_type": "code",
   "execution_count": 107,
   "metadata": {},
   "outputs": [
    {
     "name": "stdout",
     "output_type": "stream",
     "text": [
      "+------+------+-----+-------+------------+------------------+------------------+\n",
      "|userid|gender|level|churned|sessionCount|     meanSongCount|   sessionsFreqDay|\n",
      "+------+------+-----+-------+------------+------------------+------------------+\n",
      "|    10|     M| paid|  false|           6|133.66666666666666|               7.0|\n",
      "|   100|     M| free|  false|          34| 95.17647058823529|1.7352941176470589|\n",
      "|   100|     M| paid|  false|          34| 95.17647058823529|1.7352941176470589|\n",
      "|100001|     F| free|   true|           4|             48.75|              0.25|\n",
      "|100002|     F| paid|  false|           4|             52.75|              14.0|\n",
      "|100003|     F| free|   true|           2|              41.0|               1.0|\n",
      "|100004|     F| free|  false|          20|              62.3|               2.8|\n",
      "|100004|     F| paid|  false|          20|              62.3|               2.8|\n",
      "|100005|     M| free|   true|           4|             52.75|               4.5|\n",
      "|100006|     F| free|   true|           1|              45.0|               0.0|\n",
      "+------+------+-----+-------+------------+------------------+------------------+\n",
      "only showing top 10 rows\n",
      "\n"
     ]
    }
   ],
   "source": [
    "joined = user_features\\\n",
    "    .join(churn_data_summary, \n",
    "          on=['userId'], \n",
    "          how='left')\\\n",
    "    .join(user_engagement, \n",
    "          on=['userId'], \n",
    "          how='left')\\\n",
    "    .join(listen_freq,\n",
    "          on=['userId'],\n",
    "          how='left')\\\n",
    "    .orderBy('userId')\\\n",
    "    .fillna(False, subset=['churned'])\n",
    "    .withColumn('churned', \n",
    "                col('churned').cast('integer'))\n",
    "\n",
    "joined.cache()\n",
    "joined.show(10)\n"
   ]
  },
  {
   "cell_type": "markdown",
   "metadata": {},
   "source": [
    "Now we have 5 prefictor columns for churn:\n",
    "* `gender` : M or F\n",
    "* `level`: **paid** or **free**\n",
    "* `sessionCount`: How many continuous music session user listened to? Each session has many songs\n",
    "* `meanSongCount`: For given sessions, what is the average number of songs a given user listened to? (How long a session)\n",
    "* `sessionFreqDay`: What is the mean days between sessions, lower is better? Is the user frequently engaging? "
   ]
  },
  {
   "cell_type": "markdown",
   "metadata": {},
   "source": [
    "Before moving further, let's do a sanity check and see if our predictors make sense. Below is the mean value for `sessionCount` , `meanSongCount` and `SessionFreqDay` for each `churned` and `gender` group"
   ]
  },
  {
   "cell_type": "code",
   "execution_count": 108,
   "metadata": {},
   "outputs": [
    {
     "name": "stdout",
     "output_type": "stream",
     "text": [
      "+-------+------+------------------+------------------+--------------------+\n",
      "|churned|gender| avg(sessionCount)|avg(meanSongCount)|avg(sessionsFreqDay)|\n",
      "+-------+------+------------------+------------------+--------------------+\n",
      "|  false|     F| 19.88888888888889| 98.62965782415098|   4.223329936963134|\n",
      "|  false|     M|13.161971830985916| 90.76005648725896|   4.961284649317968|\n",
      "|   true|     F|11.545454545454545|  87.8641758596867|  2.5817654309914375|\n",
      "|   true|     M|11.081632653061224| 84.50908891295447|   2.239359261520126|\n",
      "+-------+------+------------------+------------------+--------------------+\n",
      "\n"
     ]
    }
   ],
   "source": [
    "joined.groupBy('churned','gender')\\\n",
    "      .agg({'sessionCount': 'mean', \n",
    "            'meanSongCount': 'mean',\n",
    "            'sessionsFreqDay': 'mean'})\\\n",
    "      .orderBy('churned','gender')\\\n",
    "      .show()"
   ]
  },
  {
   "cell_type": "markdown",
   "metadata": {},
   "source": [
    "Churned users tend to have lower `sessionCount`s listen to less number of music in sessions, and but engages with platform less frequently *(2 - 2.5 days between sessions for churned users and 4 - 4.8 days for non-churned users)* This is a bit contrary to gut feeling, but nevertheless useful predictor. One interesting finding is that female users are more engaged with the platform than Males, this will be also useful for our model"
   ]
  },
  {
   "cell_type": "code",
   "execution_count": 109,
   "metadata": {},
   "outputs": [
    {
     "name": "stdout",
     "output_type": "stream",
     "text": [
      "+-------+-----+------------------+------------------+--------------------+\n",
      "|churned|level| avg(sessionCount)|avg(meanSongCount)|avg(sessionsFreqDay)|\n",
      "+-------+-----+------------------+------------------+--------------------+\n",
      "|  false| free|15.187919463087248| 84.10800173498525|   4.905300046578652|\n",
      "|  false| paid|        17.8984375|106.80343413233099|   4.248142615257462|\n",
      "|   true| free|              10.5|  76.7782227547583|  2.2521639702111504|\n",
      "|   true| paid|             12.25| 97.46291426070968|   2.536870011319186|\n",
      "+-------+-----+------------------+------------------+--------------------+\n",
      "\n"
     ]
    }
   ],
   "source": [
    "joined.groupBy('churned','level')\\\n",
    "      .agg({'sessionCount': 'mean', \n",
    "            'meanSongCount': 'mean',\n",
    "            'sessionsFreqDay': 'mean'})\\\n",
    "      .orderBy('churned','level')\\\n",
    "      .show()"
   ]
  },
  {
   "cell_type": "markdown",
   "metadata": {},
   "source": [
    "When we look at the data from the perspective of *free* or *paid* users, there are some interesting facts. `sessionCount` and `meanSongCount` both are higher for non-churned users as expected, however again churned users engaged with the platform more frequently. Does this mean they churned not because of their lack of interest but because they are annoyed they cannot find the musics they are looking and left the platform because of that? This would be interesting to explore indeed"
   ]
  },
  {
   "cell_type": "markdown",
   "metadata": {},
   "source": [
    "Just to make sure we are not falling into the statistical fallacy of Simpson's paradox let's have a look at both `level` and `gender` together."
   ]
  },
  {
   "cell_type": "code",
   "execution_count": 110,
   "metadata": {},
   "outputs": [
    {
     "name": "stdout",
     "output_type": "stream",
     "text": [
      "+-------+-----+------+------------------+------------------+--------------------+\n",
      "|churned|level|gender| avg(sessionCount)|avg(meanSongCount)|avg(sessionsFreqDay)|\n",
      "+-------+-----+------+------------------+------------------+--------------------+\n",
      "|  false| free|     F|18.614285714285714| 89.27228099662196|   4.443434454791594|\n",
      "|  false| free|     M|12.151898734177216| 79.53205808543368|   5.314548039301365|\n",
      "|  false| paid|     F| 21.26153846153846|108.70683286918226|   3.986294302378639|\n",
      "|  false| paid|     M|14.428571428571429|104.83961003875422|  4.5183035729895815|\n",
      "|   true| free|     F|10.842105263157896|  81.1982755272718|  2.3536091608317453|\n",
      "|   true| free|     M| 10.25925925925926| 73.66781524817473|   2.180776613848509|\n",
      "|   true| paid|     F|              12.5|  96.9107548822498|  2.8914060833510193|\n",
      "|   true| paid|     M|12.090909090909092| 97.81428841063867|  2.3112561472989275|\n",
      "+-------+-----+------+------------------+------------------+--------------------+\n",
      "\n"
     ]
    }
   ],
   "source": [
    "joined.groupBy('churned','level', 'gender')\\\n",
    "      .agg({'sessionCount': 'mean', \n",
    "            'meanSongCount': 'mean',\n",
    "            'sessionsFreqDay': 'mean'})\\\n",
    "      .orderBy('churned','level', 'gender')\\\n",
    "      .show()"
   ]
  },
  {
   "cell_type": "markdown",
   "metadata": {},
   "source": [
    "Machine learning models in Spark works only with numbers, therefore we need to transform our categorical features into numbers.\n",
    "\n",
    "We will be using `StringIndexer`, to assign numbers to `level` and `gender` and use `OneHotEncoderEstimator` to encode them into `SparseVector`."
   ]
  },
  {
   "cell_type": "code",
   "execution_count": 111,
   "metadata": {},
   "outputs": [],
   "source": [
    "joined = StringIndexer(inputCol='gender', outputCol='gender_idx')\\\n",
    "            .fit(joined)\\\n",
    "            .transform(joined)\n",
    "\n",
    "joined = StringIndexer(inputCol='level', outputCol='level_idx')\\\n",
    "            .fit(joined)\\\n",
    "            .transform(joined)\n",
    "\n",
    "joined = OneHotEncoderEstimator(inputCols=['gender_idx', 'level_idx'], \n",
    "                                outputCols=['gender_dummy','level_dummy'])\\\n",
    "            .fit(joined)\\\n",
    "            .transform(joined)"
   ]
  },
  {
   "cell_type": "code",
   "execution_count": 112,
   "metadata": {},
   "outputs": [
    {
     "name": "stdout",
     "output_type": "stream",
     "text": [
      "+------+-------+------------+------------------+------------------+----------+---------+-------------+-------------+\n",
      "|userid|churned|sessionCount|     meanSongCount|   sessionsFreqDay|gender_idx|level_idx| gender_dummy|  level_dummy|\n",
      "+------+-------+------------+------------------+------------------+----------+---------+-------------+-------------+\n",
      "|    10|  false|           6|133.66666666666666|               7.0|       0.0|      1.0|(1,[0],[1.0])|    (1,[],[])|\n",
      "|   100|  false|          34| 95.17647058823529|1.7352941176470589|       0.0|      0.0|(1,[0],[1.0])|(1,[0],[1.0])|\n",
      "|   100|  false|          34| 95.17647058823529|1.7352941176470589|       0.0|      1.0|(1,[0],[1.0])|    (1,[],[])|\n",
      "|100001|   true|           4|             48.75|              0.25|       1.0|      0.0|    (1,[],[])|(1,[0],[1.0])|\n",
      "|100002|  false|           4|             52.75|              14.0|       1.0|      1.0|    (1,[],[])|    (1,[],[])|\n",
      "|100003|   true|           2|              41.0|               1.0|       1.0|      0.0|    (1,[],[])|(1,[0],[1.0])|\n",
      "|100004|  false|          20|              62.3|               2.8|       1.0|      0.0|    (1,[],[])|(1,[0],[1.0])|\n",
      "|100004|  false|          20|              62.3|               2.8|       1.0|      1.0|    (1,[],[])|    (1,[],[])|\n",
      "|100005|   true|           4|             52.75|               4.5|       0.0|      0.0|(1,[0],[1.0])|(1,[0],[1.0])|\n",
      "|100006|   true|           1|              45.0|               0.0|       1.0|      0.0|    (1,[],[])|(1,[0],[1.0])|\n",
      "|100007|   true|           9|57.666666666666664| 6.444444444444445|       1.0|      1.0|    (1,[],[])|    (1,[],[])|\n",
      "|100008|  false|           6|157.33333333333334| 8.166666666666666|       1.0|      0.0|    (1,[],[])|(1,[0],[1.0])|\n",
      "|100008|  false|           6|157.33333333333334| 8.166666666666666|       1.0|      1.0|    (1,[],[])|    (1,[],[])|\n",
      "|100009|   true|          10|              68.6|               2.6|       0.0|      1.0|(1,[0],[1.0])|    (1,[],[])|\n",
      "|100009|   true|          10|              68.6|               2.6|       0.0|      0.0|(1,[0],[1.0])|(1,[0],[1.0])|\n",
      "|100010|  false|           7|53.285714285714285| 6.285714285714286|       1.0|      0.0|    (1,[],[])|(1,[0],[1.0])|\n",
      "|100011|   true|           1|              22.0|               0.0|       0.0|      0.0|(1,[0],[1.0])|(1,[0],[1.0])|\n",
      "|100012|   true|           6|             100.0| 4.833333333333333|       0.0|      0.0|(1,[0],[1.0])|(1,[0],[1.0])|\n",
      "|100012|   true|           6|             100.0| 4.833333333333333|       0.0|      1.0|(1,[0],[1.0])|    (1,[],[])|\n",
      "|100013|   true|          13|107.15384615384616|2.3846153846153846|       1.0|      1.0|    (1,[],[])|    (1,[],[])|\n",
      "+------+-------+------------+------------------+------------------+----------+---------+-------------+-------------+\n",
      "only showing top 20 rows\n",
      "\n"
     ]
    }
   ],
   "source": [
    "# Dropping gender and level (temporarily), just to fit the cell into screen for readability\n",
    "joined.drop('gender', 'level').show()"
   ]
  },
  {
   "cell_type": "markdown",
   "metadata": {},
   "source": [
    "If the data is skewed in numerical columns predictor strength decreases, therfore we also should check distribution of our numerical columns `sessionCount`, `meanSongCount` and `sessionsFreqDay`. Let's check visually"
   ]
  },
  {
   "cell_type": "code",
   "execution_count": 113,
   "metadata": {},
   "outputs": [],
   "source": [
    "joined_pandas = joined.select('sessionCount', 'meanSongCount', 'sessionsFreqDay').toPandas()"
   ]
  },
  {
   "cell_type": "code",
   "execution_count": 114,
   "metadata": {},
   "outputs": [
    {
     "data": {
      "text/plain": [
       "<matplotlib.axes._subplots.AxesSubplot at 0x7fc54dc0d320>"
      ]
     },
     "execution_count": 114,
     "metadata": {},
     "output_type": "execute_result"
    },
    {
     "data": {
      "image/png": "[encoded data removed]",
      "text/plain": [
       "<matplotlib.figure.Figure at 0x7fc54d50a048>"
      ]
     },
     "metadata": {
      "needs_background": "light"
     },
     "output_type": "display_data"
    }
   ],
   "source": [
    "f, axes = plt.subplots(2, 3, figsize=(14, 7), sharex=False)\n",
    "sns.distplot( joined_pandas[\"sessionCount\"] , color=\"skyblue\", ax=axes[0, 0])\n",
    "sns.distplot( joined_pandas[\"meanSongCount\"] , color=\"olive\", ax=axes[0, 1])\n",
    "sns.distplot( joined_pandas[\"sessionsFreqDay\"] , color=\"gold\", ax=axes[0, 2])\n"
   ]
  },
  {
   "cell_type": "markdown",
   "metadata": {},
   "source": [
    "All looks skewed to left, let's apply `log` and `sqrt` transforms to handle skew"
   ]
  },
  {
   "cell_type": "code",
   "execution_count": 115,
   "metadata": {},
   "outputs": [
    {
     "data": {
      "text/plain": [
       "<matplotlib.axes._subplots.AxesSubplot at 0x7fc54f42fba8>"
      ]
     },
     "execution_count": 115,
     "metadata": {},
     "output_type": "execute_result"
    },
    {
     "data": {
      "image/png": "[encoded data removed]",
      "text/plain": [
       "<matplotlib.figure.Figure at 0x7fc55bb14128>"
      ]
     },
     "metadata": {
      "needs_background": "light"
     },
     "output_type": "display_data"
    }
   ],
   "source": [
    "f, axes = plt.subplots(2, 3, figsize=(14, 7), sharex=False)\n",
    "sns.distplot( joined_pandas[\"sessionCount\"] , color=\"skyblue\", ax=axes[0, 0])\n",
    "sns.distplot( joined_pandas[\"meanSongCount\"] , color=\"olive\", ax=axes[0, 1])\n",
    "sns.distplot( joined_pandas[\"sessionsFreqDay\"] , color=\"gold\", ax=axes[0, 2])\n",
    "\n",
    "# Skew handling\n",
    "sns.distplot( np.log(joined_pandas[\"sessionCount\"]) , color=\"skyblue\", ax=axes[1, 0])\n",
    "sns.distplot( np.sqrt(joined_pandas[\"meanSongCount\"]) , color=\"olive\", ax=axes[1, 1])\n",
    "sns.distplot( np.sqrt(joined_pandas[\"sessionsFreqDay\"]) , color=\"gold\", ax=axes[1, 2])"
   ]
  },
  {
   "cell_type": "markdown",
   "metadata": {},
   "source": [
    "This looks better, we go back to our spark DataFrame `joined` and apply transformations there. "
   ]
  },
  {
   "cell_type": "code",
   "execution_count": 116,
   "metadata": {},
   "outputs": [
    {
     "data": {
      "text/plain": [
       "[Row(userid='10', gender='M', level='paid', churned=False, sessionCount=6, meanSongCount=133.66666666666666, sessionsFreqDay=7.0, gender_idx=0.0, level_idx=1.0, gender_dummy=SparseVector(1, {0: 1.0}), level_dummy=SparseVector(1, {}), logSessionCount=1.791759469228055, sqrtMeanSongCount=11.561430130683084, sqrtSessionsFreqDay=2.6457513110645907)]"
      ]
     },
     "execution_count": 116,
     "metadata": {},
     "output_type": "execute_result"
    }
   ],
   "source": [
    "joined = joined.withColumn('logSessionCount', F.log('sessionCount'))\\\n",
    "      .withColumn('sqrtMeanSongCount', F.sqrt('meanSongCount'))\\\n",
    "      .withColumn('sqrtSessionsFreqDay', F.sqrt('sessionsFreqDay'))\n",
    "joined.cache()\n",
    "joined.take(1)"
   ]
  },
  {
   "cell_type": "markdown",
   "metadata": {},
   "source": [
    "Finally, we need to create two columns, `label` and `features`. Spark ML needs the `label` column and it ahs to be number, this means we need to convert `churned` column to `label` by casting to integer\n",
    "\n",
    "We also need all predictors to be in a vector, Spark ML works on vectors, so we need to join all these 5 predictors."
   ]
  },
  {
   "cell_type": "code",
   "execution_count": 117,
   "metadata": {},
   "outputs": [
    {
     "name": "stdout",
     "output_type": "stream",
     "text": [
      "+-------------+-------------+------------------+------------------+-------------------+--------------------+-----+\n",
      "| gender_dummy|  level_dummy|   logSessionCount| sqrtMeanSongCount|sqrtSessionsFreqDay|   nonScaledFeatures|label|\n",
      "+-------------+-------------+------------------+------------------+-------------------+--------------------+-----+\n",
      "|(1,[0],[1.0])|    (1,[],[])| 1.791759469228055|11.561430130683084| 2.6457513110645907|[1.0,0.0,1.791759...|    0|\n",
      "|(1,[0],[1.0])|(1,[0],[1.0])|3.5263605246161616| 9.755842894811051| 1.3173056280328643|[1.0,1.0,3.526360...|    0|\n",
      "|(1,[0],[1.0])|    (1,[],[])|3.5263605246161616| 9.755842894811051| 1.3173056280328643|[1.0,0.0,3.526360...|    0|\n",
      "|    (1,[],[])|(1,[0],[1.0])|1.3862943611198906|  6.98212002188447|                0.5|[0.0,1.0,1.386294...|    1|\n",
      "+-------------+-------------+------------------+------------------+-------------------+--------------------+-----+\n",
      "only showing top 4 rows\n",
      "\n"
     ]
    }
   ],
   "source": [
    "joined_vector = VectorAssembler(inputCols=['gender_dummy', 'level_dummy', 'logSessionCount', \n",
    "                                           'sqrtMeanSongCount', 'sqrtSessionsFreqDay'],\n",
    "                                outputCol='nonScaledFeatures')\\\n",
    "                                .transform(joined)\n",
    "\n",
    "joined_vector = joined_vector.withColumn('label', joined_vector.churned.cast('integer'))\n",
    "\n",
    "joined_vector.drop('userId','level','gender', 'sessionCount', 'meanSongCount', \n",
    "                   'sessionsFreqDay', 'gender_idx', 'level_idx', 'churned').show(4)"
   ]
  },
  {
   "cell_type": "markdown",
   "metadata": {},
   "source": [
    "Focusing on only the `nonScaledFeatures` and `label`:"
   ]
  },
  {
   "cell_type": "code",
   "execution_count": 118,
   "metadata": {},
   "outputs": [
    {
     "name": "stdout",
     "output_type": "stream",
     "text": [
      "+-----------------------------------------------------------------+-----+\n",
      "|nonScaledFeatures                                                |label|\n",
      "+-----------------------------------------------------------------+-----+\n",
      "|[1.0,0.0,1.791759469228055,11.561430130683084,2.6457513110645907]|0    |\n",
      "|[1.0,1.0,3.5263605246161616,9.755842894811051,1.3173056280328643]|0    |\n",
      "|[1.0,0.0,3.5263605246161616,9.755842894811051,1.3173056280328643]|0    |\n",
      "|[0.0,1.0,1.3862943611198906,6.98212002188447,0.5]                |1    |\n",
      "|[0.0,0.0,1.3862943611198906,7.262919523166975,3.7416573867739413]|0    |\n",
      "|[0.0,1.0,0.6931471805599453,6.4031242374328485,1.0]              |1    |\n",
      "|[0.0,1.0,2.995732273553991,7.893034904268446,1.6733200530681511] |0    |\n",
      "|[0.0,0.0,2.995732273553991,7.893034904268446,1.6733200530681511] |0    |\n",
      "|[1.0,1.0,1.3862943611198906,7.262919523166975,2.1213203435596424]|1    |\n",
      "|(5,[1,3],[1.0,6.708203932499369])                                |1    |\n",
      "+-----------------------------------------------------------------+-----+\n",
      "only showing top 10 rows\n",
      "\n"
     ]
    }
   ],
   "source": [
    "joined_vector.select('nonScaledFeatures', 'label').show(10, truncate=False)"
   ]
  },
  {
   "cell_type": "markdown",
   "metadata": {},
   "source": [
    "Mechine learning models work with standardized data better, therefore we need to standardize our features before moving to Modelling phase"
   ]
  },
  {
   "cell_type": "code",
   "execution_count": 119,
   "metadata": {},
   "outputs": [],
   "source": [
    "scaled = StandardScaler(inputCol=\"nonScaledFeatures\", outputCol=\"features\",\n",
    "                        withStd=True, withMean=True)\\\n",
    "                        .fit(joined_vector)\\\n",
    "                        .transform(joined_vector)"
   ]
  },
  {
   "cell_type": "code",
   "execution_count": 120,
   "metadata": {},
   "outputs": [
    {
     "name": "stdout",
     "output_type": "stream",
     "text": [
      "+-----------------------------------------------------------------------------------------------------+-----+\n",
      "|features                                                                                             |label|\n",
      "+-----------------------------------------------------------------------------------------------------+-----+\n",
      "|[0.936552756153413,-1.0889041944030828,-0.6180079480153943,0.9170586536337896,1.0118681455914553]    |0    |\n",
      "|[0.936552756153413,0.915796348113362,1.29029237648804,0.18372872275680666,-0.7314772101603136]       |0    |\n",
      "|[0.936552756153413,-1.0889041944030828,1.29029237648804,0.18372872275680666,-0.7314772101603136]     |0    |\n",
      "|[-1.0647712882458444,0.915796348113362,-1.0640754717115033,-0.9428044971641809,-1.804043434779411]   |1    |\n",
      "|[-1.0647712882458444,-1.0889041944030828,-1.0640754717115033,-0.8287592299099853,2.4500472084101004] |0    |\n",
      "|[-1.0647712882458444,0.915796348113362,-1.8266329401751844,-1.1779606447899746,-1.1478836165724766]  |1    |\n",
      "|[-1.0647712882458444,0.915796348113362,0.7065281382805018,-0.5728411221124982,-0.26427248933991354]  |0    |\n",
      "|[-1.0647712882458444,-1.0889041944030828,0.7065281382805018,-0.5728411221124982,-0.26427248933991354]|0    |\n",
      "|[0.936552756153413,0.915796348113362,-1.0640754717115033,-0.8287592299099853,0.32364708899118794]    |1    |\n",
      "|[-1.0647712882458444,0.915796348113362,-2.5891904086388657,-1.0540541022256924,-2.4602032529863456]  |1    |\n",
      "+-----------------------------------------------------------------------------------------------------+-----+\n",
      "only showing top 10 rows\n",
      "\n"
     ]
    }
   ],
   "source": [
    "scaled.select('features', 'label').show(10, truncate=False)"
   ]
  },
  {
   "cell_type": "markdown",
   "metadata": {},
   "source": [
    "# Modeling\n",
    "Split the full dataset into train, test, and validation sets. Test out several of the machine learning methods you learned. Evaluate the accuracy of the various models, tuning parameters as necessary. Determine your winning model based on test accuracy and report results on the validation set. Since the churned users are a fairly small subset, I suggest using F1 score as the metric to optimize."
   ]
  },
  {
   "cell_type": "markdown",
   "metadata": {},
   "source": [
    "We evaluate two models, `DecisionTreeClassifier` and `RandomForestClassifier`. `RandomForestClassifer` would combine many `DecisionTreeClassifiers` to get a better accuracy by making the classifier less prone to overfitting. `DecisionTreeClassifer` tends to overfit in general."
   ]
  },
  {
   "cell_type": "markdown",
   "metadata": {},
   "source": [
    "Our first model is `DecisionTreeClassifier` with default inputs"
   ]
  },
  {
   "cell_type": "code",
   "execution_count": 124,
   "metadata": {},
   "outputs": [
    {
     "name": "stdout",
     "output_type": "stream",
     "text": [
      "+-----+----------+-----+\n",
      "|label|prediction|count|\n",
      "+-----+----------+-----+\n",
      "|    1|       0.0|    8|\n",
      "|    0|       0.0|   51|\n",
      "|    1|       1.0|    9|\n",
      "|    0|       1.0|    2|\n",
      "+-----+----------+-----+\n",
      "\n"
     ]
    }
   ],
   "source": [
    "train, test = scaled.randomSplit([0.8, 0.2], seed=42)\n",
    "\n",
    "tree = DecisionTreeClassifier()\n",
    "prediction_tree = tree.fit(train).transform(test)\n",
    "prediction_tree.groupBy('label', 'prediction').count().show()"
   ]
  },
  {
   "cell_type": "markdown",
   "metadata": {},
   "source": [
    "For a deeper insight we can have a look at probability values for each prediction"
   ]
  },
  {
   "cell_type": "code",
   "execution_count": 125,
   "metadata": {},
   "outputs": [
    {
     "name": "stdout",
     "output_type": "stream",
     "text": [
      "+-----+----------+-----------------------------------------+\n",
      "|label|prediction|probability                              |\n",
      "+-----+----------+-----------------------------------------+\n",
      "|0    |0.0       |[0.9052631578947369,0.09473684210526316] |\n",
      "|0    |0.0       |[0.9052631578947369,0.09473684210526316] |\n",
      "|0    |0.0       |[0.9052631578947369,0.09473684210526316] |\n",
      "|1    |0.0       |[0.7777777777777778,0.2222222222222222]  |\n",
      "|0    |0.0       |[1.0,0.0]                                |\n",
      "|1    |1.0       |[0.18181818181818182,0.8181818181818182] |\n",
      "|1    |1.0       |[0.4,0.6]                                |\n",
      "|1    |1.0       |[0.4,0.6]                                |\n",
      "|1    |1.0       |[0.045454545454545456,0.9545454545454546]|\n",
      "|1    |1.0       |[0.18181818181818182,0.8181818181818182] |\n",
      "|0    |0.0       |[1.0,0.0]                                |\n",
      "|0    |0.0       |[0.9052631578947369,0.09473684210526316] |\n",
      "|0    |0.0       |[1.0,0.0]                                |\n",
      "|0    |0.0       |[1.0,0.0]                                |\n",
      "|0    |0.0       |[0.9052631578947369,0.09473684210526316] |\n",
      "|0    |0.0       |[0.9052631578947369,0.09473684210526316] |\n",
      "|0    |1.0       |[0.4,0.6]                                |\n",
      "|0    |0.0       |[0.972972972972973,0.02702702702702703]  |\n",
      "|0    |0.0       |[1.0,0.0]                                |\n",
      "|0    |0.0       |[1.0,0.0]                                |\n",
      "+-----+----------+-----------------------------------------+\n",
      "only showing top 20 rows\n",
      "\n"
     ]
    }
   ],
   "source": [
    "prediction_tree.select('label', 'prediction', 'probability').show(20, False)"
   ]
  },
  {
   "cell_type": "markdown",
   "metadata": {},
   "source": [
    "Churn event is rather sparse, and basic Decision tree classifier was able to predict 9 churn events successfully and missed 8,and incorrectly predicted 2 customers were going to churn but didn't."
   ]
  },
  {
   "cell_type": "markdown",
   "metadata": {},
   "source": [
    "Now we look at `RandomForestClassifier` with default hyperparameters"
   ]
  },
  {
   "cell_type": "code",
   "execution_count": 126,
   "metadata": {},
   "outputs": [
    {
     "name": "stdout",
     "output_type": "stream",
     "text": [
      "+-----+----------+-----+\n",
      "|label|prediction|count|\n",
      "+-----+----------+-----+\n",
      "|    1|       0.0|    9|\n",
      "|    0|       0.0|   52|\n",
      "|    1|       1.0|    8|\n",
      "|    0|       1.0|    1|\n",
      "+-----+----------+-----+\n",
      "\n"
     ]
    }
   ],
   "source": [
    "prediction_forest = RandomForestClassifier().fit(train).transform(test)\n",
    "prediction_forest.groupBy('label', 'prediction').count().show()"
   ]
  },
  {
   "cell_type": "markdown",
   "metadata": {},
   "source": [
    "RandomForest didn't perform particularly better in this case compared to DecisionTreeClassifier"
   ]
  },
  {
   "cell_type": "code",
   "execution_count": 130,
   "metadata": {},
   "outputs": [
    {
     "name": "stdout",
     "output_type": "stream",
     "text": [
      "+--------------------------------------------------------------------+-----+\n",
      "|features                                                            |label|\n",
      "+--------------------------------------------------------------------+-----+\n",
      "|[1.0,0.0,0.3865942267128045,0.5744649790503206,0.5188745216627709]  |0    |\n",
      "|[1.0,1.0,0.760855819956617,0.4632364158491928,0.25834488856558363]  |0    |\n",
      "|[1.0,0.0,0.760855819956617,0.4632364158491928,0.25834488856558363]  |0    |\n",
      "|[0.0,1.0,0.29911012372903045,0.292368343820136,0.09805806756909202] |1    |\n",
      "|[0.0,0.0,0.29911012372903045,0.30966627573654204,0.7337993857053429]|0    |\n",
      "|[0.0,1.0,0.14955506186451523,0.2567007959306758,0.19611613513818404]|1    |\n",
      "|[0.0,1.0,0.646366223604866,0.3484829150538877,0.3281650616569468]   |0    |\n",
      "|[0.0,0.0,0.646366223604866,0.3484829150538877,0.3281650616569468]   |0    |\n",
      "|[1.0,1.0,0.29911012372903045,0.30966627573654204,0.4160251471689218]|1    |\n",
      "|[0.0,1.0,0.0,0.275494446810523,0.0]                                 |1    |\n",
      "+--------------------------------------------------------------------+-----+\n",
      "only showing top 10 rows\n",
      "\n"
     ]
    }
   ],
   "source": [
    "minmaxscaled = MinMaxScaler(inputCol=\"nonScaledFeatures\", outputCol=\"features\")\\\n",
    "                        .fit(joined_vector)\\\n",
    "                        .transform(joined_vector)\n",
    "minmaxscaled.select('features', 'label').show(10, truncate=False)"
   ]
  },
  {
   "cell_type": "code",
   "execution_count": 135,
   "metadata": {},
   "outputs": [
    {
     "name": "stdout",
     "output_type": "stream",
     "text": [
      "+-----+----------+-----+\n",
      "|label|prediction|count|\n",
      "+-----+----------+-----+\n",
      "|    1|       0.0|    8|\n",
      "|    0|       0.0|   51|\n",
      "|    1|       1.0|    9|\n",
      "|    0|       1.0|    2|\n",
      "+-----+----------+-----+\n",
      "\n"
     ]
    }
   ],
   "source": [
    "train, test = minmaxscaled.randomSplit([0.8, 0.2], seed=42)\n",
    "\n",
    "tree = DecisionTreeClassifier(featuresCol='nonScaledFeatures', labelCol='label')\n",
    "prediction_tree = tree.fit(train).transform(test)\n",
    "prediction_tree.groupBy('label', 'prediction').count().show()"
   ]
  },
  {
   "cell_type": "code",
   "execution_count": 143,
   "metadata": {},
   "outputs": [
    {
     "name": "stdout",
     "output_type": "stream",
     "text": [
      "+-----+----------+-----+\n",
      "|label|prediction|count|\n",
      "+-----+----------+-----+\n",
      "|    1|       0.0|    6|\n",
      "|    0|       0.0|   51|\n",
      "|    1|       1.0|   11|\n",
      "|    0|       1.0|    2|\n",
      "+-----+----------+-----+\n",
      "\n"
     ]
    }
   ],
   "source": [
    "from pyspark.ml.classification import GBTClassifier\n",
    "gbt = GBTClassifier(featuresCol='nonScaledFeatures', labelCol='label')\n",
    "pred_gbt = gbt.fit(train).transform(test)\n",
    "pred_gbt.groupBy('label', 'prediction').count().show()"
   ]
  },
  {
   "cell_type": "code",
   "execution_count": 147,
   "metadata": {},
   "outputs": [
    {
     "name": "stdout",
     "output_type": "stream",
     "text": [
      "+-----+----------+-----+\n",
      "|label|prediction|count|\n",
      "+-----+----------+-----+\n",
      "|    1|       0.0|    6|\n",
      "|    0|       0.0|   51|\n",
      "|    1|       1.0|   11|\n",
      "|    0|       1.0|    2|\n",
      "+-----+----------+-----+\n",
      "\n"
     ]
    }
   ],
   "source": [
    "from pyspark.ml.classification import GBTClassifier\n",
    "gbt = GBTClassifier(featuresCol='features', labelCol='label')\n",
    "pred_gbt = gbt.fit(train).transform(test)\n",
    "pred_gbt.groupBy('label', 'prediction').count().show()"
   ]
  },
  {
   "cell_type": "code",
   "execution_count": 145,
   "metadata": {},
   "outputs": [],
   "source": [
    "from pyspark.ml.evaluation import MulticlassClassificationEvaluator, BinaryClassificationEvaluator\n",
    "\n",
    "# Find AUC\n",
    "binary_evaluator = BinaryClassificationEvaluator()\n",
    "auc = binary_evaluator.evaluate(pred_gbt, {binary_evaluator.metricName: \"areaUnderROC\"})"
   ]
  },
  {
   "cell_type": "code",
   "execution_count": 152,
   "metadata": {},
   "outputs": [],
   "source": [
    "from pyspark.ml import Pipeline\n",
    "from pyspark.ml.tuning import CrossValidator, ParamGridBuilder\n",
    "\n",
    "params = ParamGridBuilder().build()\n",
    "\n",
    "cv = CrossValidator(estimator=tree, estimatorParamMaps=params, evaluator=binary_evaluator, numFolds=5)\n",
    "cv = cv.fit(train)"
   ]
  },
  {
   "cell_type": "code",
   "execution_count": 156,
   "metadata": {},
   "outputs": [
    {
     "name": "stdout",
     "output_type": "stream",
     "text": [
      "+-----+----------+-----+\n",
      "|label|prediction|count|\n",
      "+-----+----------+-----+\n",
      "|    1|       0.0|    8|\n",
      "|    0|       0.0|   51|\n",
      "|    1|       1.0|    9|\n",
      "|    0|       1.0|    2|\n",
      "+-----+----------+-----+\n",
      "\n"
     ]
    }
   ],
   "source": [
    "pred_cv = cv.transform(test)\n",
    "pred_cv.groupBy('label', 'prediction').count().show()"
   ]
  },
  {
   "cell_type": "code",
   "execution_count": 184,
   "metadata": {},
   "outputs": [
    {
     "name": "stdout",
     "output_type": "stream",
     "text": [
      "+------+------+-----+-------+------------+------------------+------------------+\n",
      "|userid|gender|level|churned|sessionCount|     meanSongCount|   sessionsFreqDay|\n",
      "+------+------+-----+-------+------------+------------------+------------------+\n",
      "|    10|     M| paid|      0|           6|133.66666666666666|               7.0|\n",
      "|   100|     M| free|      0|          34| 95.17647058823529|1.7352941176470589|\n",
      "|   100|     M| paid|      0|          34| 95.17647058823529|1.7352941176470589|\n",
      "|100001|     F| free|      1|           4|             48.75|              0.25|\n",
      "|100002|     F| paid|      0|           4|             52.75|              14.0|\n",
      "|100003|     F| free|      1|           2|              41.0|               1.0|\n",
      "|100004|     F| free|      0|          20|              62.3|               2.8|\n",
      "|100004|     F| paid|      0|          20|              62.3|               2.8|\n",
      "|100005|     M| free|      1|           4|             52.75|               4.5|\n",
      "|100006|     F| free|      1|           1|              45.0|               0.0|\n",
      "|100007|     F| paid|      1|           9|57.666666666666664| 6.444444444444445|\n",
      "|100008|     F| free|      0|           6|157.33333333333334| 8.166666666666666|\n",
      "|100008|     F| paid|      0|           6|157.33333333333334| 8.166666666666666|\n",
      "|100009|     M| paid|      1|          10|              68.6|               2.6|\n",
      "|100009|     M| free|      1|          10|              68.6|               2.6|\n",
      "|100010|     F| free|      0|           7|53.285714285714285| 6.285714285714286|\n",
      "|100011|     M| free|      1|           1|              22.0|               0.0|\n",
      "|100012|     M| free|      1|           6|             100.0| 4.833333333333333|\n",
      "|100012|     M| paid|      1|           6|             100.0| 4.833333333333333|\n",
      "|100013|     F| paid|      1|          13|107.15384615384616|2.3846153846153846|\n",
      "+------+------+-----+-------+------------+------------------+------------------+\n",
      "only showing top 20 rows\n",
      "\n"
     ]
    }
   ],
   "source": [
    "j.show()"
   ]
  },
  {
   "cell_type": "code",
   "execution_count": 185,
   "metadata": {},
   "outputs": [
    {
     "name": "stdout",
     "output_type": "stream",
     "text": [
      "+------+------+-----+-------+------------+------------------+------------------+------------------+------------------+-------------------+\n",
      "|userid|gender|level|churned|sessionCount|     meanSongCount|   sessionsFreqDay|   logSessionCount| sqrtMeanSongCount|sqrtSessionsFreqDay|\n",
      "+------+------+-----+-------+------------+------------------+------------------+------------------+------------------+-------------------+\n",
      "|    10|     M| paid|      0|           6|133.66666666666666|               7.0| 1.791759469228055|11.561430130683084| 2.6457513110645907|\n",
      "|   100|     M| free|      0|          34| 95.17647058823529|1.7352941176470589|3.5263605246161616| 9.755842894811051| 1.3173056280328643|\n",
      "|   100|     M| paid|      0|          34| 95.17647058823529|1.7352941176470589|3.5263605246161616| 9.755842894811051| 1.3173056280328643|\n",
      "|100001|     F| free|      1|           4|             48.75|              0.25|1.3862943611198906|  6.98212002188447|                0.5|\n",
      "|100002|     F| paid|      0|           4|             52.75|              14.0|1.3862943611198906| 7.262919523166975| 3.7416573867739413|\n",
      "+------+------+-----+-------+------------+------------------+------------------+------------------+------------------+-------------------+\n",
      "only showing top 5 rows\n",
      "\n"
     ]
    }
   ],
   "source": [
    "j = user_features\\\n",
    "    .join(churn_data_summary, \n",
    "          on=['userId'], \n",
    "          how='left')\\\n",
    "    .join(user_engagement, \n",
    "          on=['userId'], \n",
    "          how='left')\\\n",
    "    .join(listen_freq,\n",
    "          on=['userId'],\n",
    "          how='left')\\\n",
    "    .orderBy('userId')\\\n",
    "    .fillna(False, subset=['churned'])\\\n",
    "    .withColumn('churned', \n",
    "                col('churned').cast('integer'))\\\n",
    "    .withColumn('logSessionCount', F.log('sessionCount'))\\\n",
    "    .withColumn('sqrtMeanSongCount', F.sqrt('meanSongCount'))\\\n",
    "    .withColumn('sqrtSessionsFreqDay', F.sqrt('sessionsFreqDay'))\n",
    "\n",
    "j.cache()\n",
    "j.show(5)"
   ]
  },
  {
   "cell_type": "code",
   "execution_count": 178,
   "metadata": {},
   "outputs": [
    {
     "data": {
      "text/plain": [
       "[StringIndexer_fba551e63d6c, StringIndexer_f0185a91cdec]"
      ]
     },
     "execution_count": 178,
     "metadata": {},
     "output_type": "execute_result"
    }
   ],
   "source": []
  },
  {
   "cell_type": "code",
   "execution_count": 191,
   "metadata": {},
   "outputs": [
    {
     "data": {
      "text/plain": [
       "[StringIndexer_68305429c317,\n",
       " StringIndexer_c98ace58d733,\n",
       " OneHotEncoderEstimator_0216ca1e6769,\n",
       " VectorAssembler_45b1ace90533,\n",
       " MinMaxScaler_bfcb63301c7e,\n",
       " StandardScaler_dd543c1f0b07,\n",
       " RandomForestClassifier_dce35260ff2f]"
      ]
     },
     "execution_count": 191,
     "metadata": {},
     "output_type": "execute_result"
    }
   ],
   "source": [
    "# Keep a list for Pipeline stages\n",
    "stages = []\n",
    "\n",
    "# Convert categorical variables to indexes\n",
    "indexers = [StringIndexer(inputCol=column, outputCol=column+\"_idx\").fit(j) for column in ['level', 'gender']]\n",
    "\n",
    "# Convert indexes to OnHotEncoded Sparse Vectors\n",
    "onehotencoder = OneHotEncoderEstimator(inputCols=['gender_idx', 'level_idx'], \n",
    "                                       outputCols=['gender_dummy','level_dummy'])\n",
    "\n",
    "# Assemble all predictor values to \"nonScaledFatures\" Dense vector\n",
    "assembler = VectorAssembler(inputCols=['gender_dummy', 'level_dummy', 'logSessionCount', \n",
    "                                       'sqrtMeanSongCount', 'sqrtSessionsFreqDay'],\n",
    "                            outputCol='nonScaledFeatures')\n",
    "\n",
    "# Scale the features, depends on the classifier you can pick scaled or non scaled features\n",
    "scalers = [\n",
    "    MinMaxScaler(inputCol=\"nonScaledFeatures\", outputCol=\"minMaxScaledFeatures\"),\n",
    "    StandardScaler(inputCol=\"nonScaledFeatures\", outputCol=\"stdScaledFeatures\", withStd=True, withMean=True)\n",
    "]\n",
    "\n",
    "# Define RandomForestClassifer with features(predictors) and label\n",
    "classifier = RandomForestClassifier(featuresCol='nonScaledFeatures', labelCol='churned')\n",
    "\n",
    "# Add all to stages\n",
    "stages += indexers\n",
    "stages.append(onehotencoder)\n",
    "stages.append(assembler)\n",
    "stages += scalers\n",
    "stages.append(classifier)\n",
    "\n",
    "\n",
    "stages"
   ]
  },
  {
   "cell_type": "code",
   "execution_count": 200,
   "metadata": {},
   "outputs": [],
   "source": [
    "params = ParamGridBuilder()"
   ]
  },
  {
   "cell_type": "code",
   "execution_count": 203,
   "metadata": {},
   "outputs": [],
   "source": [
    "params = ParamGridBuilder()\\\n",
    "    .addGrid(classifier.maxDepth, [2, 5, 10])\\\n",
    "    .addGrid(classifier.featureSubsetStrategy, ['all', 'onethird', 'sqrt', 'log2'])\\\n",
    "    .build()\n",
    "\n",
    "evaluator = binary_evaluator = BinaryClassificationEvaluator(labelCol='churned')\n",
    "\n",
    "pipeline = Pipeline(stages=stages)\n",
    "\n",
    "cv = CrossValidator(estimator=pipeline,\n",
    "          estimatorParamMaps=params,\n",
    "          evaluator=evaluator, \n",
    "          numFolds=5)"
   ]
  },
  {
   "cell_type": "markdown",
   "metadata": {},
   "source": [
    "`CrossValidator` will run GridSearch on all hypermodels and also will fit `numFolds` of crossvalidation. This much of model fitting may take some time"
   ]
  },
  {
   "cell_type": "code",
   "execution_count": 209,
   "metadata": {},
   "outputs": [
    {
     "data": {
      "text/plain": [
       "'Number of models to be tested with 5 crossfolds = 60'"
      ]
     },
     "execution_count": 209,
     "metadata": {},
     "output_type": "execute_result"
    }
   ],
   "source": [
    "\"Number of models to be tested with 5 crossfolds = {}\".format(5*len(params))"
   ]
  },
  {
   "cell_type": "code",
   "execution_count": 210,
   "metadata": {},
   "outputs": [],
   "source": [
    "train, test = j.randomSplit([0.8, 0.2], seed=42)\n",
    "model = cv.fit(train)"
   ]
  },
  {
   "cell_type": "code",
   "execution_count": 211,
   "metadata": {},
   "outputs": [
    {
     "data": {
      "text/plain": [
       "[0.833184584172826,\n",
       " 0.8297167474183151,\n",
       " 0.8203765079904897,\n",
       " 0.8203765079904897,\n",
       " 0.7988566572605127,\n",
       " 0.8019411267823522,\n",
       " 0.8013008528026124,\n",
       " 0.8013008528026124,\n",
       " 0.8038614473032966,\n",
       " 0.8042281111146093,\n",
       " 0.8256818561377832,\n",
       " 0.8256818561377831]"
      ]
     },
     "execution_count": 211,
     "metadata": {},
     "output_type": "execute_result"
    }
   ],
   "source": [
    "model.avgMetrics"
   ]
  },
  {
   "cell_type": "code",
   "execution_count": 222,
   "metadata": {},
   "outputs": [],
   "source": [
    "predictions = model.transform(test)"
   ]
  },
  {
   "cell_type": "code",
   "execution_count": null,
   "metadata": {},
   "outputs": [],
   "source": [
    "predictions.groupBy('churned', 'prediction').count().show()"
   ]
  },
  {
   "cell_type": "markdown",
   "metadata": {},
   "source": [
    "# Final Steps\n",
    "Clean up your code, adding comments and renaming variables to make the code easier to read and maintain. Refer to the Spark Project Overview page and Data Scientist Capstone Project Rubric to make sure you are including all components of the capstone project and meet all expectations. Remember, this includes thorough documentation in a README file in a Github repository, as well as a web app or blog post."
   ]
  },
  {
   "cell_type": "code",
   "execution_count": null,
   "metadata": {},
   "outputs": [],
   "source": []
  }
 ],
 "metadata": {
  "kernelspec": {
   "display_name": "Python 3",
   "language": "python",
   "name": "python3"
  },
  "language_info": {
   "codemirror_mode": {
    "name": "ipython",
    "version": 3
   },
   "file_extension": ".py",
   "mimetype": "text/x-python",
   "name": "python",
   "nbconvert_exporter": "python",
   "pygments_lexer": "ipython3",
   "version": "3.6.3"
  }
 },
 "nbformat": 4,
 "nbformat_minor": 2
}
